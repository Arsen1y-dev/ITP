{
 "cells": [
  {
   "cell_type": "markdown",
   "metadata": {},
   "source": [
    "4.2 Файлы"
   ]
  },
  {
   "cell_type": "markdown",
   "metadata": {},
   "source": [
    "Работа с текстовым файлом. Задача 3.7"
   ]
  },
  {
   "cell_type": "code",
   "execution_count": null,
   "metadata": {},
   "outputs": [],
   "source": [
    "with open('input.txt', 'r') as f:\n",
    "    line = f.read()\n",
    "    line = (line.split('\\n'))\n",
    "line = list(filter(None, line))\n",
    "a = line[0]\n",
    "b = line[1:]\n",
    "o = str()\n",
    "for i in b:\n",
    "    if i.startswith(a):\n",
    "        str = i\n",
    "        break\n",
    "with open('output.txt', 'w') as out_file:\n",
    "        out_file.write(str)"
   ]
  },
  {
   "cell_type": "markdown",
   "metadata": {},
   "source": [
    "Работа с текстовым файлом. Задача 3.11"
   ]
  },
  {
   "cell_type": "code",
   "execution_count": null,
   "metadata": {},
   "outputs": [],
   "source": [
    "with open('input.txt', 'r') as usshele:\n",
    "    line = usshele.read()\n",
    "    line = (line.split('\\n'))\n",
    "line = list(filter(None, line))\n",
    "o = []\n",
    "for i in line:\n",
    "    if ' ' in i:\n",
    "        o.append(i)\n",
    "f =  open('output.txt', 'w')\n",
    "for i in o:\n",
    "    f.write(i)\n",
    "    f.write('\\n')"
   ]
  },
  {
   "cell_type": "markdown",
   "metadata": {},
   "source": [
    "Работа с текстовым файлом. Задача 3.15"
   ]
  },
  {
   "cell_type": "code",
   "execution_count": 2,
   "metadata": {},
   "outputs": [],
   "source": [
    "res = ''\n",
    "with open('input.txt', 'r') as input_file:\n",
    "    k = int(input_file.readline())\n",
    "    for line in input_file:\n",
    "        line = line.rstrip('\\n')\n",
    "        if len(line) >= k:\n",
    "            res += line[k-1]\n",
    "\n",
    "\n",
    "with open('output.txt', 'w') as output_file:\n",
    "    output_file.write(res)\n"
   ]
  },
  {
   "cell_type": "markdown",
   "metadata": {},
   "source": [
    "Работа с текстовым файлом. Задача 3.8"
   ]
  },
  {
   "cell_type": "code",
   "execution_count": null,
   "metadata": {},
   "outputs": [],
   "source": [
    "with open('output.txt', 'w') as out:\n",
    "    with open('input.txt', 'r') as f:\n",
    "        lines = f.readlines()\n",
    "        ans = ''\n",
    "        for line in lines:\n",
    "            line = line.replace('\\n', '')\n",
    "            if line != '':\n",
    "                ans += line[0]\n",
    "        out.write(ans)"
   ]
  }
 ],
 "metadata": {
  "kernelspec": {
   "display_name": "base",
   "language": "python",
   "name": "python3"
  },
  "language_info": {
   "codemirror_mode": {
    "name": "ipython",
    "version": 3
   },
   "file_extension": ".py",
   "mimetype": "text/x-python",
   "name": "python",
   "nbconvert_exporter": "python",
   "pygments_lexer": "ipython3",
   "version": "3.11.5"
  }
 },
 "nbformat": 4,
 "nbformat_minor": 2
}
