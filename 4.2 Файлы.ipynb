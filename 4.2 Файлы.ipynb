{
 "cells": [
  {
   "cell_type": "markdown",
   "metadata": {},
   "source": [
    "4.2 Файлы"
   ]
  },
  {
   "cell_type": "markdown",
   "metadata": {},
   "source": [
    "Работа с текстовым файлом. Задача 3.7"
   ]
  },
  {
   "cell_type": "code",
   "execution_count": null,
   "metadata": {},
   "outputs": [],
   "source": [
    "with open('input.txt', 'r') as f:\n",
    "    line = f.read()\n",
    "    line = (line.split('\\n'))\n",
    "line = list(filter(None, line))\n",
    "a = line[0]\n",
    "b = line[1:]\n",
    "o = str()\n",
    "for i in b:\n",
    "    if i.startswith(a):\n",
    "        str = i\n",
    "        break\n",
    "with open('output.txt', 'w') as out_file:\n",
    "        out_file.write(str)"
   ]
  },
  {
   "cell_type": "markdown",
   "metadata": {},
   "source": [
    "with open('input.txt', 'r') as f:: Эта строка открывает файл с именем 'input.txt' в режиме чтения ('r'). Инструкция with гарантирует правильное закрытие файла после чтения его содержимого.\n",
    "\n",
    "line = f.read(): Эта строка считывает весь контент файла и сохраняет его в переменной line.\n",
    "\n",
    "line = (line.split('\\n')): Здесь контент файла разбивается на строки по символу новой строки ('\\n'), создавая список строк. Результат присваивается переменной line.\n",
    "\n",
    "line = list(filter(None, line)): Эта строка использует функцию filter для удаления пустых строк из списка строк. Результат преобразуется обратно в список.\n",
    "\n",
    "a = line[0]: Эта строка присваивает переменной a первый элемент списка (вероятно, это какой-то идентификатор или шаблон).\n",
    "\n",
    "b = line[1:]: Эта строка присваивает переменной b остальные элементы списка (исключая первый).\n",
    "\n",
    "o = str(): Эта строка инициализирует пустую строку с именем o. Важно отметить, что использование str в качестве имени переменной не рекомендуется, так как это также встроенный тип данных в Python.\n",
    "\n",
    "Цикл for перебирает каждый элемент в списке b.\n",
    "\n",
    "if i.startswith(a):: Это условие проверяет, начинается ли текущий элемент i с значения, хранящегося в a.\n",
    "\n",
    "Если условие истинное, то значение i присваивается переменной str, и цикл завершается.\n",
    "\n",
    "with open('output.txt', 'w') as out_file:: Эта строка открывает файл с именем 'output.txt' в режиме записи ('w'). Инструкция with гарантирует правильное закрытие файла после записи.\n",
    "\n",
    "out_file.write(str): Эта строка записывает значение переменной str (которое было установлено внутри цикла) в файл 'output.txt'.\n",
    "\n"
   ]
  },
  {
   "cell_type": "markdown",
   "metadata": {},
   "source": [
    "Работа с текстовым файлом. Задача 3.11"
   ]
  },
  {
   "cell_type": "code",
   "execution_count": null,
   "metadata": {},
   "outputs": [],
   "source": [
    "with open('input.txt', 'r') as usshele:\n",
    "    line = usshele.read()\n",
    "    line = (line.split('\\n'))\n",
    "line = list(filter(None, line))\n",
    "o = []\n",
    "for i in line:\n",
    "    if ' ' in i:\n",
    "        o.append(i)\n",
    "f =  open('output.txt', 'w')\n",
    "for i in o:\n",
    "    f.write(i)\n",
    "    f.write('\\n')"
   ]
  },
  {
   "cell_type": "markdown",
   "metadata": {},
   "source": [
    "Работа с текстовым файлом. Задача 3.15"
   ]
  },
  {
   "cell_type": "code",
   "execution_count": 2,
   "metadata": {},
   "outputs": [],
   "source": [
    "res = ''\n",
    "with open('input.txt', 'r') as input_file:\n",
    "    k = int(input_file.readline())\n",
    "    for line in input_file:\n",
    "        line = line.rstrip('\\n')\n",
    "        if len(line) >= k:\n",
    "            res += line[k-1]\n",
    "\n",
    "\n",
    "with open('output.txt', 'w') as output_file:\n",
    "    output_file.write(res)\n"
   ]
  },
  {
   "cell_type": "markdown",
   "metadata": {},
   "source": [
    "res = '': Инициализация пустой строки с именем res, которая будет использоваться для накопления символов из строк.\n",
    "\n",
    "with open('input.txt', 'r') as input_file:: Открытие файла 'input.txt' в режиме чтения ('r'). Инструкция with гарантирует, что файл будет правильно закрыт после использования.\n",
    "\n",
    "k = int(input_file.readline()): Чтение первой строки из файла, предположительно, это число k, преобразование его в целое число и сохранение в переменной k.\n",
    "\n",
    "for line in input_file:: Цикл, который итерирует по каждой оставшейся строке в файле.\n",
    "\n",
    "line = line.rstrip('\\n'): Удаление символа новой строки ('\\n') с конца каждой строки. Это выполняется для того, чтобы избежать лишних символов в строках.\n",
    "\n",
    "if len(line) >= k:: Проверка, что длина текущей строки больше или равна k. Если это условие выполняется, выполняется следующий блок кода.\n",
    "\n",
    "res += line[k-1]: Добавление символа из строки в переменную res. Используется индекс k-1, так как индексация в Python начинается с 0.\n",
    "\n",
    "with open('output.txt', 'w') as output_file:: Открытие файла 'output.txt' в режиме записи ('w'). Инструкция with гарантирует, что файл будет правильно закрыт после записи.\n",
    "\n",
    "output_file.write(res): Запись содержимого переменной res в файл 'output.txt'.\n",
    "\n",
    "Таким образом, код читает число k из первой строки файла 'input.txt', затем проходит по остальным строкам, извлекая символы на позиции k-1 из строк, длина которых больше или равна k. Результат записывается в файл 'output.txt'.\n",
    "\n"
   ]
  },
  {
   "cell_type": "markdown",
   "metadata": {},
   "source": [
    "Работа с текстовым файлом. Задача 3.8"
   ]
  },
  {
   "cell_type": "code",
   "execution_count": null,
   "metadata": {},
   "outputs": [],
   "source": [
    "with open('output.txt', 'w') as out:\n",
    "    with open('input.txt', 'r') as f:\n",
    "        lines = f.readlines()\n",
    "        ans = ''\n",
    "        for line in lines:\n",
    "            line = line.replace('\\n', '')\n",
    "            if line != '':\n",
    "                ans += line[0]\n",
    "        out.write(ans)"
   ]
  }
 ],
 "metadata": {
  "kernelspec": {
   "display_name": "base",
   "language": "python",
   "name": "python3"
  },
  "language_info": {
   "codemirror_mode": {
    "name": "ipython",
    "version": 3
   },
   "file_extension": ".py",
   "mimetype": "text/x-python",
   "name": "python",
   "nbconvert_exporter": "python",
   "pygments_lexer": "ipython3",
   "version": "3.11.5"
  }
 },
 "nbformat": 4,
 "nbformat_minor": 2
}
