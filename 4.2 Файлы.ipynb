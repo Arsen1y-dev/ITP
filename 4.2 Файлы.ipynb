{
 "cells": [
  {
   "cell_type": "markdown",
   "metadata": {},
   "source": [
    "4.2 Файлы"
   ]
  },
  {
   "cell_type": "markdown",
   "metadata": {},
   "source": [
    "Работа с текстовым файлом. Задача 3.7"
   ]
  },
  {
   "cell_type": "code",
   "execution_count": null,
   "metadata": {},
   "outputs": [],
   "source": [
    "with open('input.txt', 'r') as f:\n",
    "    line = f.read()\n",
    "    line = (line.split('\\n'))\n",
    "line = list(filter(None, line))\n",
    "a = line[0]\n",
    "b = line[1:]\n",
    "o = str()\n",
    "for i in b:\n",
    "    if i.startswith(a):\n",
    "        str = i\n",
    "        break\n",
    "with open('output.txt', 'w') as out_file:\n",
    "        out_file.write(str)"
   ]
  },
  {
   "cell_type": "markdown",
   "metadata": {},
   "source": [
    "Работа с текстовым файлом. Задача 3.11"
   ]
  },
  {
   "cell_type": "code",
   "execution_count": null,
   "metadata": {},
   "outputs": [],
   "source": [
    "with open('input.txt', 'r') as usshele:\n",
    "    line = usshele.read()\n",
    "    line = (line.split('\\n'))\n",
    "line = list(filter(None, line))\n",
    "o = []\n",
    "for i in line:\n",
    "    if ' ' in i:\n",
    "        o.append(i)\n",
    "f =  open('output.txt', 'w')\n",
    "for i in o:\n",
    "    f.write(i)\n",
    "    f.write('\\n')"
   ]
  },
  {
   "cell_type": "markdown",
   "metadata": {},
   "source": [
    "Работа с текстовым файлом. Задача 3.15"
   ]
  },
  {
   "cell_type": "code",
   "execution_count": 2,
   "metadata": {},
   "outputs": [],
   "source": [
    "def get_kth_characters_from_file(k, input_filename, output_filename):\n",
    "    with open(input_filename, 'r') as input_file:\n",
    "        # Считываем число k\n",
    "        k = int(input_file.readline().strip())\n",
    "        \n",
    "        lines = input_file.readlines()\n",
    "\n",
    "    result = \"\"\n",
    "    \n",
    "    # Перебираем строки\n",
    "    for line in lines:\n",
    "        # Если длина строки не менее k, добавляем k-ый символ в результат\n",
    "        if len(line) >= k:\n",
    "            result += line[k-1]\n",
    "\n",
    "    # Записываем результат в выходной файл\n",
    "    with open(output_filename, 'w') as output_file:\n",
    "        output_file.write(result.strip())  # Убираем лишние пробелы и переводы строк\n",
    "\n",
    "# Пример использования\n",
    "get_kth_characters_from_file(2, 'input.txt', 'output.txt')\n"
   ]
  },
  {
   "cell_type": "markdown",
   "metadata": {},
   "source": [
    "Работа с текстовым файлом. Задача 3.8"
   ]
  },
  {
   "cell_type": "code",
   "execution_count": null,
   "metadata": {},
   "outputs": [],
   "source": [
    "with open('output.txt', 'w') as out:\n",
    "    with open('input.txt', 'r') as f:\n",
    "        lines = f.readlines()\n",
    "        ans = ''\n",
    "        for line in lines:\n",
    "            line = line.replace('\\n', '')\n",
    "            if line != '':\n",
    "                ans += line[0]\n",
    "        out.write(ans)"
   ]
  }
 ],
 "metadata": {
  "kernelspec": {
   "display_name": "base",
   "language": "python",
   "name": "python3"
  },
  "language_info": {
   "codemirror_mode": {
    "name": "ipython",
    "version": 3
   },
   "file_extension": ".py",
   "mimetype": "text/x-python",
   "name": "python",
   "nbconvert_exporter": "python",
   "pygments_lexer": "ipython3",
   "version": "3.11.5"
  }
 },
 "nbformat": 4,
 "nbformat_minor": 2
}
