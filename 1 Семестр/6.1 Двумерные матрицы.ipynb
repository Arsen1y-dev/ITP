{
 "cells": [
  {
   "cell_type": "markdown",
   "metadata": {},
   "source": [
    "6.1 Двумерные матрицы"
   ]
  },
  {
   "cell_type": "markdown",
   "metadata": {},
   "source": [
    "Двумерные массивы. Задача 1.3"
   ]
  },
  {
   "cell_type": "code",
   "execution_count": 1,
   "metadata": {},
   "outputs": [
    {
     "name": "stdout",
     "output_type": "stream",
     "text": [
      "1 0 5\n",
      "5 7 0\n"
     ]
    }
   ],
   "source": [
    "def replace_elements_with_zero(matrix, A, B):\n",
    "    for i in range(len(matrix)):\n",
    "        for j in range(len(matrix[i])):\n",
    "            if A <= matrix[i][j] <= B:\n",
    "                matrix[i][j] = 0\n",
    "\n",
    "N, M = map(int, input().split())\n",
    "A, B = map(int, input().split())\n",
    "\n",
    "\n",
    "matrix = []\n",
    "for _ in range(N):\n",
    "    row = list(map(int, input().split()))\n",
    "    matrix.append(row)\n",
    "\n",
    "replace_elements_with_zero(matrix, A, B)\n",
    "\n",
    "for row in matrix:\n",
    "    print(*row)\n"
   ]
  },
  {
   "cell_type": "markdown",
   "metadata": {},
   "source": [
    "Двумерные массивы. Задача 1.6"
   ]
  },
  {
   "cell_type": "code",
   "execution_count": 3,
   "metadata": {},
   "outputs": [
    {
     "name": "stdout",
     "output_type": "stream",
     "text": [
      "3.833333\n"
     ]
    }
   ],
   "source": [
    "def calculate_average(matrix):\n",
    "    total_sum = 0\n",
    "    total_elements = 0\n",
    "\n",
    "    for row in matrix:\n",
    "        total_sum += sum(row)\n",
    "        total_elements += len(row)\n",
    "\n",
    "    average = total_sum / total_elements\n",
    "    return average\n",
    "\n",
    "N, M = map(int, input().split())\n",
    "\n",
    "matrix = []\n",
    "for _ in range(N):\n",
    "    row = list(map(int, input().split()))\n",
    "    matrix.append(row)\n",
    "\n",
    "result = calculate_average(matrix)\n",
    "\n",
    "print(f\"{result:.6f}\")\n"
   ]
  },
  {
   "cell_type": "markdown",
   "metadata": {},
   "source": [
    "Двумерные массивы. Задача 1.13"
   ]
  },
  {
   "cell_type": "code",
   "execution_count": 4,
   "metadata": {},
   "outputs": [
    {
     "name": "stdout",
     "output_type": "stream",
     "text": [
      "1 3\n",
      "2 2\n"
     ]
    }
   ],
   "source": [
    "def find_positions(matrix, K):\n",
    "    positions = []\n",
    "\n",
    "    for i in range(len(matrix)):\n",
    "        for j in range(len(matrix[i])):\n",
    "            if matrix[i][j] > K:\n",
    "                positions.append((i+1, j+1))\n",
    "\n",
    "    return positions\n",
    "\n",
    "N, M = map(int, input().split())\n",
    "K = int(input())\n",
    "\n",
    "matrix = []\n",
    "for _ in range(N):\n",
    "    row = list(map(int, input().split()))\n",
    "    matrix.append(row)\n",
    "\n",
    "result = find_positions(matrix, K)\n",
    "\n",
    "for pos in result:\n",
    "    print(*pos)\n"
   ]
  },
  {
   "cell_type": "markdown",
   "metadata": {},
   "source": [
    "Двумерные массивы. Задача 2.1"
   ]
  },
  {
   "cell_type": "code",
   "execution_count": 6,
   "metadata": {},
   "outputs": [
    {
     "name": "stdout",
     "output_type": "stream",
     "text": [
      "2.000000\n"
     ]
    }
   ],
   "source": [
    "def a(matrix):\n",
    "    total_sum = 0\n",
    "    count = 0\n",
    "\n",
    "    for i in range(len(matrix)):\n",
    "        for j in range(i + 1, len(matrix[i])):\n",
    "            if matrix[i][j] % 2 != 0:\n",
    "                total_sum += matrix[i][j]\n",
    "                count += 1\n",
    "\n",
    "    if count == 0:\n",
    "        return \"No\"\n",
    "    else:\n",
    "        average = total_sum / count\n",
    "        return f\"{average:.6f}\"\n",
    "\n",
    "N = int(input())\n",
    "\n",
    "\n",
    "matrix = []\n",
    "for _ in range(N):\n",
    "    row = list(map(int, input().split()))\n",
    "    matrix.append(row)\n",
    "\n",
    "result = a(matrix)\n",
    "\n",
    "print(result)\n"
   ]
  },
  {
   "cell_type": "markdown",
   "metadata": {},
   "source": [
    "Двумерные массивы. Задача 2.5"
   ]
  },
  {
   "cell_type": "code",
   "execution_count": 9,
   "metadata": {},
   "outputs": [
    {
     "name": "stdout",
     "output_type": "stream",
     "text": [
      "3.000000\n"
     ]
    }
   ],
   "source": [
    "def f(matrix):\n",
    "    total_sum = 0\n",
    "    count = 0\n",
    "\n",
    "    N = len(matrix)\n",
    "\n",
    "    for i in range(N):\n",
    "        for j in range(N):\n",
    "            if i > N - j - 1:  \n",
    "                total_sum += matrix[i][j]\n",
    "                count += 1\n",
    "\n",
    "    if count == 0:\n",
    "        return \"No\"\n",
    "    else:\n",
    "        average = total_sum / count\n",
    "        return f\"{average:.6f}\"\n",
    "\n",
    "N = int(input())\n",
    "\n",
    "matrix = []\n",
    "for _ in range(N):\n",
    "    row = list(map(int, input().split()))\n",
    "    matrix.append(row)\n",
    "\n",
    "result = f(matrix)\n",
    "\n",
    "print(result)\n",
    "\n"
   ]
  },
  {
   "cell_type": "markdown",
   "metadata": {},
   "source": [
    "Двумерные массивы. Задача 2.10"
   ]
  },
  {
   "cell_type": "code",
   "execution_count": 2,
   "metadata": {},
   "outputs": [
    {
     "name": "stdout",
     "output_type": "stream",
     "text": [
      "-3 -2 1\n"
     ]
    }
   ],
   "source": [
    "def find_column_minima(matrix):\n",
    "    # Создаем список для хранения минимальных значений по каждому столбцу\n",
    "    column_minima = []\n",
    "\n",
    "    # Перебираем столбцы\n",
    "    for j in range(len(matrix[0])):\n",
    "        # Инициализируем минимум значением в первой строке\n",
    "        min_value = matrix[0][j]\n",
    "\n",
    "        # Перебираем строки, начиная со второй\n",
    "        for i in range(1, len(matrix)):\n",
    "            # Если текущее значение меньше минимума, обновляем минимум\n",
    "            if matrix[i][j] < min_value:\n",
    "                min_value = matrix[i][j]\n",
    "\n",
    "        # Добавляем минимум в список\n",
    "        column_minima.append(min_value)\n",
    "\n",
    "    return column_minima\n",
    "\n",
    "N, M = map(int, input().split())\n",
    "\n",
    "matrix = []\n",
    "for _ in range(N):\n",
    "    row = list(map(int, input().split()))\n",
    "    matrix.append(row)\n",
    "\n",
    "result = find_column_minima(matrix)\n",
    "\n",
    "print(*result)\n"
   ]
  },
  {
   "cell_type": "markdown",
   "metadata": {},
   "source": [
    "Двумерные массивы. Задача 2.11"
   ]
  },
  {
   "cell_type": "code",
   "execution_count": 1,
   "metadata": {},
   "outputs": [
    {
     "name": "stdout",
     "output_type": "stream",
     "text": [
      "4 3 2 1\n",
      "4 3 2 1\n"
     ]
    }
   ],
   "source": [
    "n, m = map(int, input().split())\n",
    "\n",
    "matrix = []\n",
    "for _ in range(n):\n",
    "    row = list(map(int, input().split()))\n",
    "    matrix.append(row)\n",
    "\n",
    "for row in matrix:\n",
    "    row.reverse()\n",
    "\n",
    "for row in matrix:\n",
    "    print(*row)\n"
   ]
  },
  {
   "cell_type": "markdown",
   "metadata": {},
   "source": [
    "Двумерные массивы. Задача 2.12"
   ]
  },
  {
   "cell_type": "code",
   "execution_count": 3,
   "metadata": {},
   "outputs": [
    {
     "name": "stdout",
     "output_type": "stream",
     "text": [
      "2 2 2 2\n",
      "1 1 1 1\n",
      "3 3 3 3\n"
     ]
    }
   ],
   "source": [
    "n, m = map(int, input().split())\n",
    "\n",
    "matrix = []\n",
    "for _ in range(n):\n",
    "    row = list(map(int, input().split()))\n",
    "    matrix.append(row)\n",
    "\n",
    "if n % 2 == 0:\n",
    "    # Если количество строк четное, меняем местами 2 средних строки\n",
    "    mid1 = n // 2 - 1\n",
    "    mid2 = n // 2\n",
    "    matrix[mid1], matrix[mid2] = matrix[mid2], matrix[mid1]\n",
    "else:\n",
    "    # Если количество строк нечетное, меняем местами первую и среднюю строки\n",
    "    mid = n // 2\n",
    "    matrix[0], matrix[mid] = matrix[mid], matrix[0]\n",
    "\n",
    "for row in matrix:\n",
    "    print(*row)\n"
   ]
  },
  {
   "cell_type": "markdown",
   "metadata": {},
   "source": [
    "Двумерные массивы. Задача 2.14"
   ]
  },
  {
   "cell_type": "code",
   "execution_count": 4,
   "metadata": {},
   "outputs": [
    {
     "name": "stdout",
     "output_type": "stream",
     "text": [
      "2 2 2\n",
      "1 1 1\n",
      "4 4 4\n",
      "3 3 3\n"
     ]
    }
   ],
   "source": [
    "n, m = map(int, input().split())\n",
    "matrix = [list(map(int, input().split())) for _ in range(n)]\n",
    "\n",
    "if n % 2 == 0:\n",
    "    for i in range(0, n, 2):\n",
    "        matrix[i], matrix[i + 1] = matrix[i + 1], matrix[i]\n",
    "\n",
    "for row in matrix:\n",
    "    print(*row)\n"
   ]
  }
 ],
 "metadata": {
  "kernelspec": {
   "display_name": "base",
   "language": "python",
   "name": "python3"
  },
  "language_info": {
   "codemirror_mode": {
    "name": "ipython",
    "version": 3
   },
   "file_extension": ".py",
   "mimetype": "text/x-python",
   "name": "python",
   "nbconvert_exporter": "python",
   "pygments_lexer": "ipython3",
   "version": "3.11.5"
  }
 },
 "nbformat": 4,
 "nbformat_minor": 2
}
