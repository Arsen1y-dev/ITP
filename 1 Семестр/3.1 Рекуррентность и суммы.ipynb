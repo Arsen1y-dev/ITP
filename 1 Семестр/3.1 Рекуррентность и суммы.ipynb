{
 "cells": [
  {
   "cell_type": "markdown",
   "metadata": {},
   "source": [
    "3.1 Рекуррентность и суммы"
   ]
  },
  {
   "cell_type": "markdown",
   "metadata": {},
   "source": [
    "Числа Фибоначчи"
   ]
  },
  {
   "cell_type": "code",
   "execution_count": 9,
   "metadata": {},
   "outputs": [
    {
     "name": "stdout",
     "output_type": "stream",
     "text": [
      "2\n"
     ]
    }
   ],
   "source": [
    "def fibonacci(k):\n",
    "    if k == 1 or k == 2:\n",
    "        return 1\n",
    "    else:\n",
    "        return fibonacci(k - 1) + fibonacci(k - 2)\n",
    "\n",
    "k = int(input())\n",
    "result = fibonacci(k)\n",
    "print(result)"
   ]
  },
  {
   "cell_type": "markdown",
   "metadata": {},
   "source": [
    "Винни Пух"
   ]
  },
  {
   "cell_type": "code",
   "execution_count": 8,
   "metadata": {},
   "outputs": [
    {
     "name": "stdout",
     "output_type": "stream",
     "text": [
      "0.3\n"
     ]
    }
   ],
   "source": [
    "def winnie_puh_birthday(n):\n",
    "    if n == 1 or n == 2:\n",
    "        return 0.1\n",
    "    \n",
    "    honey = [0.1] * (n + 1)\n",
    "    \n",
    "    for i in range(3, n + 1):\n",
    "        honey[i] = honey[i - 1] + honey[i - 2]\n",
    "    \n",
    "    return honey[n]\n",
    "\n",
    "n = int(input())\n",
    "result = winnie_puh_birthday(n)\n",
    "print(\"{:.1f}\".format(result))"
   ]
  },
  {
   "cell_type": "markdown",
   "metadata": {},
   "source": [
    "Богатый дядюшка"
   ]
  },
  {
   "cell_type": "code",
   "execution_count": 7,
   "metadata": {},
   "outputs": [
    {
     "name": "stdout",
     "output_type": "stream",
     "text": [
      "99\n"
     ]
    }
   ],
   "source": [
    "n = int(input())\n",
    "total_sm = cur_present = 1\n",
    "\n",
    "for age in range(2, n + 1):\n",
    "    cur_present = cur_present * 2 + age\n",
    "    total_sm += cur_present\n",
    "\n",
    "print(total_sm)"
   ]
  },
  {
   "cell_type": "markdown",
   "metadata": {},
   "source": [
    "Рекуррентные соотношения 1"
   ]
  },
  {
   "cell_type": "code",
   "execution_count": 6,
   "metadata": {},
   "outputs": [
    {
     "name": "stdout",
     "output_type": "stream",
     "text": [
      "3\n"
     ]
    }
   ],
   "source": [
    "n_max = int(input())\n",
    "n1 = 1\n",
    "n2 = 3\n",
    "cur_day = 2\n",
    "while n2 <= n_max:\n",
    "    n1, n2 = n2, (n1 + n2) // 2 + 2\n",
    "    cur_day += 1\n",
    "    \n",
    "print(cur_day - 1)"
   ]
  },
  {
   "cell_type": "markdown",
   "metadata": {},
   "source": [
    "Рекуррентные соотношения 2"
   ]
  },
  {
   "cell_type": "code",
   "execution_count": 3,
   "metadata": {},
   "outputs": [
    {
     "name": "stdout",
     "output_type": "stream",
     "text": [
      "0 1 0\n"
     ]
    }
   ],
   "source": [
    "b_day_sm, n = map(float, input().split(\" \"))\n",
    "g_day_sm = b_day_sm // 2\n",
    "\n",
    "b_total_sm = b_day_sm\n",
    "g_total_sm = g_day_sm\n",
    "\n",
    "days_cnt = 1\n",
    "\n",
    "while (b_total_sm + g_total_sm) < n:\n",
    "    if int(b_day_sm * 0.9) == 0 and int(g_day_sm * 1.15) == 0:\n",
    "        days_cnt = 0\n",
    "        break\n",
    "    \n",
    "    b_day_sm = int(b_day_sm * 0.9)\n",
    "    g_day_sm = int(g_day_sm * 1.15)\n",
    "    \n",
    "    b_total_sm += b_day_sm\n",
    "    g_total_sm += g_day_sm\n",
    "    \n",
    "    days_cnt += 1\n",
    "    \n",
    "print(days_cnt, int(b_total_sm), int(g_total_sm))\n"
   ]
  },
  {
   "cell_type": "markdown",
   "metadata": {},
   "source": [
    "Рекуррентные соотношения 6"
   ]
  },
  {
   "cell_type": "code",
   "execution_count": 4,
   "metadata": {},
   "outputs": [
    {
     "name": "stdout",
     "output_type": "stream",
     "text": [
      "3 30\n"
     ]
    }
   ],
   "source": [
    "s_day_cnt, total_cnt = map(int, input().split(\" \"))\n",
    "days_cnt = s_total_cnt = cur_cnt = 0\n",
    "\n",
    "while cur_cnt < total_cnt:\n",
    "    cur_cnt += int(s_day_cnt * 2.3)\n",
    "    s_total_cnt += s_day_cnt\n",
    "    s_day_cnt += 6\n",
    "    days_cnt += 1\n",
    "    \n",
    "print(days_cnt, s_total_cnt)"
   ]
  },
  {
   "cell_type": "markdown",
   "metadata": {},
   "source": [
    "Рекуррентные соотношения 7"
   ]
  },
  {
   "cell_type": "code",
   "execution_count": 5,
   "metadata": {},
   "outputs": [
    {
     "name": "stdout",
     "output_type": "stream",
     "text": [
      "3 13\n"
     ]
    }
   ],
   "source": [
    "cur_day_cnt, required_day_cnt = map(int, input().split(\" \"))\n",
    "cur_total_cnt = days_cnt = 0\n",
    "res = \"\"\n",
    "\n",
    "while cur_total_cnt < 1_000_000:\n",
    "    cur_total_cnt += cur_day_cnt\n",
    "    days_cnt += 1\n",
    "    if cur_day_cnt >= required_day_cnt and res == \"\":\n",
    "        res += f\"{days_cnt}\"\n",
    "        \n",
    "    cur_day_cnt *= 3\n",
    "    \n",
    "res += f\" {days_cnt}\"\n",
    "print(res)"
   ]
  },
  {
   "cell_type": "markdown",
   "metadata": {},
   "source": [
    "Рекуррентные соотношения 11"
   ]
  },
  {
   "cell_type": "code",
   "execution_count": 1,
   "metadata": {},
   "outputs": [
    {
     "name": "stdout",
     "output_type": "stream",
     "text": [
      "16\n"
     ]
    }
   ],
   "source": [
    "s, k, m = map(int, input().split(\" \"))\n",
    "cnt = 0\n",
    "while s >= k:\n",
    "    s -= (k - m)\n",
    "    cnt += 1\n",
    "\n",
    "print(cnt)"
   ]
  }
 ],
 "metadata": {
  "kernelspec": {
   "display_name": "base",
   "language": "python",
   "name": "python3"
  },
  "language_info": {
   "codemirror_mode": {
    "name": "ipython",
    "version": 3
   },
   "file_extension": ".py",
   "mimetype": "text/x-python",
   "name": "python",
   "nbconvert_exporter": "python",
   "pygments_lexer": "ipython3",
   "version": "3.11.5"
  }
 },
 "nbformat": 4,
 "nbformat_minor": 2
}
