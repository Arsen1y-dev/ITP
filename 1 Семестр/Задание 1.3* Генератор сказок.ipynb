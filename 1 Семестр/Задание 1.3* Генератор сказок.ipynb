{
 "cells": [
  {
   "cell_type": "markdown",
   "metadata": {},
   "source": [
    "Задание 1.3* Генератор сказок"
   ]
  },
  {
   "cell_type": "code",
   "execution_count": null,
   "metadata": {},
   "outputs": [],
   "source": [
    "hero_name = input(\"Как зовут героя? \")\n",
    "villain_name = input(\"Кто его противник? \")\n",
    "kingdom_name = input(\"Название места действия? \")\n",
    "conflict_reason = input(\"Причина конфликта? \")\n",
    "hero_weapon = input(\"Оружие героя? \")\n",
    "villain_ability = input(\"Способность злодея? \")\n",
    "years = input(\"Сколько лет герою? \")\n",
    "\n",
    "\n",
    "print(f\"Жил-был в королевстве {kingdom_name} герой {hero_name}. Было ему {years} лет.\")\n",
    "print(f\"Однажды на королевство напал злой {villain_name}.\")\n",
    "print(f\"А произошло это из-за: {conflict_reason}.\")\n",
    "print(f\"Герой {hero_name} вооружен {hero_weapon}, а злодей {villain_name} обладает ужасной способностью: {villain_ability}.\")\n",
    "print(f\"День бились, другой бились, наконец {hero_name} одолел врага.\")\n",
    "print(f\"Вернулся домой, а {hero_name} забыл {hero_weapon} в лесу.\")\n",
    "print(f\"Тут и сказочке конец, а кто слушал — молодец!\")"
   ]
  }
 ],
 "metadata": {
  "language_info": {
   "name": "python"
  }
 },
 "nbformat": 4,
 "nbformat_minor": 2
}
