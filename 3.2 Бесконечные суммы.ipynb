{
 "cells": [
  {
   "cell_type": "markdown",
   "metadata": {},
   "source": [
    "3.2 Бесконечные суммы"
   ]
  },
  {
   "cell_type": "markdown",
   "metadata": {},
   "source": [
    "Пример"
   ]
  },
  {
   "cell_type": "code",
   "execution_count": null,
   "metadata": {},
   "outputs": [],
   "source": [
    "h, e = map(float, input().split())\n",
    "\n",
    "x = 0.2\n",
    "\n",
    "while 1.8 + e > x:\n",
    "    y = x\n",
    "    y_sum = 0\n",
    "\n",
    "    while e < y:\n",
    "        y_sum += y\n",
    "        y = (1/13) * (x * y ** 2 + 2 * y)\n",
    "\n",
    "    print(f'{x:.8f}', f'{y_sum:.8f}')\n",
    "    x += h\n"
   ]
  },
  {
   "cell_type": "code",
   "execution_count": null,
   "metadata": {},
   "outputs": [],
   "source": [
    "h, e = map(float, input().split())\n",
    "\n",
    "x = 0.2\n",
    "\n",
    "while 0.8 + e > x:\n",
    "    y0, y1 = 1, x\n",
    "    i = 1\n",
    "    y_sum = y0 + y1\n",
    "\n",
    "    while e < y1:\n",
    "        try:\n",
    "            y0, y1 = y1, ((((x ** 2 - 2) * y1) / ((x ** 2 - 1) * i ** 2)) + (y0 ** 2 / i ** 2))\n",
    "            y_sum += y1\n",
    "            i += 1\n",
    "\n",
    "        except OverflowError:\n",
    "            y_sum = 0\n",
    "            break\n",
    "\n",
    "    print(f'{x:.8f}', f'{y_sum:.8f}')\n",
    "    x += h"
   ]
  },
  {
   "cell_type": "code",
   "execution_count": null,
   "metadata": {},
   "outputs": [],
   "source": [
    "h, e = map(float, input().split())\n",
    "\n",
    "x = 0.0\n",
    "\n",
    "while 0.8 + e > x:\n",
    "    y = 1/4\n",
    "    i1 = 0\n",
    "    i2 = -1\n",
    "    y_sum = 0\n",
    "\n",
    "    while e < y:\n",
    "        y_sum += y\n",
    "        i1 += 1\n",
    "        i2 += 3\n",
    "        y = i2 * x ** i1 / (i2 + 3) ** 2\n",
    "\n",
    "    print(f'{x:.8f}', f'{y_sum:.8f}')\n",
    "    x += h"
   ]
  },
  {
   "cell_type": "markdown",
   "metadata": {},
   "source": [
    "Вложенные циклы. Задача 8.11"
   ]
  },
  {
   "cell_type": "code",
   "execution_count": null,
   "metadata": {},
   "outputs": [],
   "source": [
    "h, e = map(float, input(). split())\n",
    "\n",
    "x = 0.1\n",
    "\n",
    "while 0.9 + e > x:\n",
    "    "
   ]
  },
  {
   "cell_type": "markdown",
   "metadata": {},
   "source": [
    "Вложенные циклы. Задача 8.16"
   ]
  },
  {
   "cell_type": "code",
   "execution_count": null,
   "metadata": {},
   "outputs": [],
   "source": []
  },
  {
   "cell_type": "markdown",
   "metadata": {},
   "source": [
    "Вложенные циклы. Задача 8.20"
   ]
  },
  {
   "cell_type": "code",
   "execution_count": null,
   "metadata": {},
   "outputs": [],
   "source": []
  }
 ],
 "metadata": {
  "kernelspec": {
   "display_name": "base",
   "language": "python",
   "name": "python3"
  },
  "language_info": {
   "name": "python",
   "version": "3.11.5"
  }
 },
 "nbformat": 4,
 "nbformat_minor": 2
}
