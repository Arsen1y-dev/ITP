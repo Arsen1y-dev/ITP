{
 "cells": [
  {
   "cell_type": "markdown",
   "metadata": {},
   "source": [
    "Задание 6.1 Список строк (any и all)"
   ]
  },
  {
   "cell_type": "markdown",
   "metadata": {},
   "source": [
    "Приложение читает строки, пока не будет введена пустая. Строки состоят из слов — последовательностей символов, разделённых одним или более пробельными символами. Пустой считается строка, не содержащая ни одного непробельного символа.\n",
    "+ 8. Проверить, что хотя бы в одной строке ни одно слово не начинается с прописной (заглавной) буквы.\n",
    "\n"
   ]
  },
  {
   "cell_type": "markdown",
   "metadata": {},
   "source": [
    "a quick brown fox\n",
    "jumps over\n",
    "the lazy dog\n",
    "\n",
    "\n",
    "\n",
    "\n",
    "Hello World\n",
    "This Is A Test\n",
    "\n",
    "\n",
    "\n",
    "This is a test\n",
    "Another line"
   ]
  },
  {
   "cell_type": "code",
   "execution_count": 1,
   "metadata": {},
   "outputs": [
    {
     "name": "stdout",
     "output_type": "stream",
     "text": [
      "Хотя бы в одном слове первая буква не заглавная.\n",
      "Хотя бы в одном слове первая буква не заглавная.\n",
      "Хотя бы в одном слове первая буква не заглавная.\n",
      "Хотя бы в одном слове первая буква не заглавная.\n",
      "Все слова начинаются с заглавной буквы.\n",
      "Все слова начинаются с заглавной буквы.\n",
      "Все слова начинаются с заглавной буквы.\n",
      "Все слова начинаются с заглавной буквы.\n"
     ]
    }
   ],
   "source": [
    "def check_strings():\n",
    "    while True:\n",
    "        # Ввод строки\n",
    "        input_string = input(\"Введите строку (для завершения введите пустую строку): \")\n",
    "\n",
    "        # Проверка на пустую строку\n",
    "        if not input_string:\n",
    "            break\n",
    "\n",
    "        # Разбиваем строку на слова\n",
    "        words = input_string.split()\n",
    "\n",
    "        # Проверяем, что хотя бы в одном слове первая буква не является заглавной\n",
    "        if any(not word[0].isupper() for word in words):\n",
    "            print(\"Хотя бы в одном слове первая буква не заглавная.\")\n",
    "        else:\n",
    "            print(\"Все слова начинаются с заглавной буквы.\")\n",
    "\n",
    "# Вызываем функцию для выполнения программы\n",
    "check_strings()\n"
   ]
  },
  {
   "cell_type": "markdown",
   "metadata": {},
   "source": [
    "Функция all() в Python – одна из встроенных функций. Она принимает итерацию в качестве аргумента и возвращает True, если все элементы итерации истинны или пусты.\n"
   ]
  }
 ],
 "metadata": {
  "kernelspec": {
   "display_name": "base",
   "language": "python",
   "name": "python3"
  },
  "language_info": {
   "codemirror_mode": {
    "name": "ipython",
    "version": 3
   },
   "file_extension": ".py",
   "mimetype": "text/x-python",
   "name": "python",
   "nbconvert_exporter": "python",
   "pygments_lexer": "ipython3",
   "version": "3.11.5"
  }
 },
 "nbformat": 4,
 "nbformat_minor": 2
}
