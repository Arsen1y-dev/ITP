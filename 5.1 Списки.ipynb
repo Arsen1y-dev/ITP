{
 "cells": [
  {
   "cell_type": "markdown",
   "metadata": {},
   "source": [
    "5.1 Списки"
   ]
  },
  {
   "cell_type": "markdown",
   "metadata": {},
   "source": [
    "Изменение элементов массива 1"
   ]
  },
  {
   "cell_type": "code",
   "execution_count": null,
   "metadata": {},
   "outputs": [],
   "source": [
    "N = int(input())\n",
    "mas = []\n",
    "for _ in range(N):\n",
    "    element = int(input())\n",
    "    mas.append(element)\n",
    "\n",
    "k = int(input())\n",
    "\n",
    "result_mas = [element * k for element in mas]\n",
    "\n",
    "\n",
    "print(*result_mas)"
   ]
  },
  {
   "cell_type": "markdown",
   "metadata": {},
   "source": [
    "Одномерные массивы. Задача 3.3"
   ]
  },
  {
   "cell_type": "code",
   "execution_count": null,
   "metadata": {},
   "outputs": [],
   "source": [
    "N = int(input())\n",
    "\n",
    "arr = list(map(int, input().split()))\n",
    "\n",
    "max_element = max(arr)\n",
    "max_index = arr.index(max_element)\n",
    "\n",
    "\n",
    "arr[max_index] = -arr[max_index]\n",
    "\n",
    "\n",
    "print(*arr)"
   ]
  },
  {
   "cell_type": "markdown",
   "metadata": {},
   "source": [
    "ЕГЭ С2-2"
   ]
  },
  {
   "cell_type": "code",
   "execution_count": null,
   "metadata": {},
   "outputs": [],
   "source": [
    "n, m, k = map(int, input().split())\n",
    "numbers = list(map(int, input().split()))\n",
    "\n",
    "\n",
    "sum_result = 0\n",
    "\n",
    "\n",
    "for num in numbers:\n",
    "    if str(num)[-1] == str(k) and num % m != 0:\n",
    "        sum_result += num\n",
    "\n",
    "\n",
    "print(sum_result)"
   ]
  },
  {
   "cell_type": "markdown",
   "metadata": {},
   "source": [
    "Палиндром"
   ]
  },
  {
   "cell_type": "code",
   "execution_count": null,
   "metadata": {},
   "outputs": [],
   "source": [
    "def is_palindrome(s):\n",
    "    cleaned_str = ''.join(char.upper() for char in s if char.isalnum())\n",
    "    \n",
    "    return cleaned_str == cleaned_str[::-1]\n",
    "\n",
    "input_str = input()\n",
    "\n",
    "if is_palindrome(input_str):\n",
    "    print(\"Yes\")\n",
    "else:\n",
    "    print(\"No\")"
   ]
  },
  {
   "cell_type": "markdown",
   "metadata": {},
   "source": [
    "Цифровой корень"
   ]
  },
  {
   "cell_type": "code",
   "execution_count": null,
   "metadata": {},
   "outputs": [],
   "source": [
    "def цифровой_корень(n):\n",
    "    while n >= 10:\n",
    "        n = sum(map(int, str(n)))\n",
    "    return n\n",
    "\n",
    "\n",
    "число = int(input())\n",
    "\n",
    "\n",
    "print(цифровой_корень(число))"
   ]
  },
  {
   "cell_type": "markdown",
   "metadata": {},
   "source": [
    "Слияние"
   ]
  },
  {
   "cell_type": "code",
   "execution_count": null,
   "metadata": {},
   "outputs": [],
   "source": [
    "n, m = map(int, input().split())\n",
    "массив1 = list(map(int, input().split()))\n",
    "массив2 = list(map(int, input().split()))\n",
    "res = []\n",
    "i, j = 0, 0\n",
    "while i < n or j < m:\n",
    "    if j == m or (i < n and массив1[i] <= массив2[j]):\n",
    "        res.append(массив1[i])\n",
    "        i += 1\n",
    "    else:\n",
    "        res.append(массив2[j])\n",
    "        j += 1\n",
    "print(*res)"
   ]
  },
  {
   "cell_type": "markdown",
   "metadata": {},
   "source": [
    "Расшифровка сдвигов"
   ]
  },
  {
   "cell_type": "markdown",
   "metadata": {},
   "source": [
    "НЕ РАБОТАЕТ"
   ]
  },
  {
   "cell_type": "code",
   "execution_count": null,
   "metadata": {},
   "outputs": [],
   "source": [
    "def decrypt_array(n, p, q, a):\n",
    "    # Обратный циклический сдвиг вправо на q позиций для всего массива\n",
    "    a = a[-q:] + a[:-q]\n",
    "\n",
    "    # Обратный циклический сдвиг влево на p позиций для левой части массива\n",
    "    a[:n//2] = a[:n//2][-p:] + a[:n//2][:-p]\n",
    "\n",
    "    # Обратный циклический сдвиг влево на p позиций для правой части массива\n",
    "    a[n//2:] = a[n//2:][-p:] + a[n//2:][:-p]\n",
    "\n",
    "    return a\n",
    "\n",
    "n, p, q = map(int, input().split())\n",
    "a = list(map(int, input().split()))\n",
    "\n",
    "result = decrypt_array(n, p, q, a)\n",
    "print(*result)"
   ]
  },
  {
   "cell_type": "markdown",
   "metadata": {},
   "source": [
    "Изменение порядка"
   ]
  },
  {
   "cell_type": "code",
   "execution_count": null,
   "metadata": {},
   "outputs": [],
   "source": [
    "n = int(input())\n",
    "массив = [int(x) for x in input().split(\" \")]\n",
    "mn_index = массив.index(min(массив))\n",
    "mx_index = len(массив) - 1 - массив[::-1].index(max(массив))\n",
    "\n",
    "if mx_index < mn_index:\n",
    "    mx_index, mn_index = mn_index, mx_index\n",
    "\n",
    "массив = массив[:mn_index] + массив[mn_index:mx_index + 1][::-1] + массив[mx_index + 1:]\n",
    "print(\" \".join([str(x) for x in массив]))"
   ]
  },
  {
   "cell_type": "markdown",
   "metadata": {},
   "source": [
    "Гласные и согласные"
   ]
  },
  {
   "cell_type": "code",
   "execution_count": null,
   "metadata": {},
   "outputs": [],
   "source": [
    "str = input()\n",
    "res = ''\n",
    "vowels = 'aeiou'\n",
    "consonants = 'bcdfghjklmnpqrstvwxz'\n",
    "for i in range(len(str)):\n",
    "    if str[i] in vowels:\n",
    "        res += 'V'\n",
    "    if str[i] in consonants:\n",
    "        res += 'C'\n",
    "    if str[i] == 'y':\n",
    "        if i == 0:\n",
    "            res += 'V' \n",
    "        elif res[i-1] == 'C':\n",
    "            res += 'V'\n",
    "        else:\n",
    "            res += 'C'\n",
    "print(res)"
   ]
  }
 ],
 "metadata": {
  "kernelspec": {
   "display_name": "base",
   "language": "python",
   "name": "python3"
  },
  "language_info": {
   "codemirror_mode": {
    "name": "ipython",
    "version": 3
   },
   "file_extension": ".py",
   "mimetype": "text/x-python",
   "name": "python",
   "nbconvert_exporter": "python",
   "pygments_lexer": "ipython3",
   "version": "3.11.5"
  }
 },
 "nbformat": 4,
 "nbformat_minor": 2
}
