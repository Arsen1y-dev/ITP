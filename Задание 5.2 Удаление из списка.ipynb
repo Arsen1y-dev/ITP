{
 "cells": [
  {
   "cell_type": "markdown",
   "metadata": {},
   "source": [
    "Задание 5.2 Удаление из списка"
   ]
  },
  {
   "cell_type": "markdown",
   "metadata": {},
   "source": [
    "Прочитать N целых чисел. Удалить из этого списка (не создавая новый) элементы, модуль которых в диапазоне от 50 до 150."
   ]
  },
  {
   "cell_type": "code",
   "execution_count": null,
   "metadata": {},
   "outputs": [],
   "source": [
    "# Введите количество чисел N\n",
    "N = int(input(\"Введите количество чисел N: \"))\n",
    "\n",
    "# Инициализируем список для хранения чисел\n",
    "numbers = []\n",
    "\n",
    "# Читаем N целых чисел и добавляем их в список\n",
    "for i in range(N):\n",
    "    number = int(input(f\"Введите целое число {i + 1}: \"))\n",
    "    numbers.append(number)\n",
    "\n",
    "# Удаление элементов, модуль которых в диапазоне от 50 до 150\n",
    "# Мы используем индексацию элементов списка и условие для проверки модуля числа\n",
    "i = 0\n",
    "while i < len(numbers):\n",
    "    if 50 <= abs(numbers[i]) <= 150:\n",
    "        del numbers[i]\n",
    "    else:\n",
    "        i += 1\n",
    "\n",
    "# Вывод результата\n",
    "print(\"Список после удаления элементов в диапазоне от 50 до 150:\", numbers)\n"
   ]
  }
 ],
 "metadata": {
  "language_info": {
   "name": "python"
  }
 },
 "nbformat": 4,
 "nbformat_minor": 2
}
