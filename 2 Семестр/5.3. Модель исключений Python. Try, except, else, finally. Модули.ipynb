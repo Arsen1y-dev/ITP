{
 "cells": [
  {
   "cell_type": "markdown",
   "metadata": {},
   "source": [
    "5.3. Модель исключений Python. Try, except, else, finally. Модули"
   ]
  },
  {
   "cell_type": "markdown",
   "metadata": {},
   "source": [
    "Обработка ошибок"
   ]
  },
  {
   "cell_type": "code",
   "execution_count": null,
   "metadata": {},
   "outputs": [],
   "source": [
    "try:\n",
    "    func()\n",
    "except Exception as error:\n",
    "    print(type(error).__name__)\n",
    "else:\n",
    "    print('No Exceptions')   \n",
    "    \n",
    "\"\"\"\n",
    "\t1.\ttry: Здесь мы помещаем код, который мы хотим выполнить. \n",
    " В данном случае, вызываем функцию func().\n",
    " Если в процессе выполнения этой функции возникают исключения типа ValueError, TypeError, SystemError \n",
    " или любые другие наследники Exception, они будут перехвачены.\n",
    "\t2.\texcept Exception as error: Этот блок будет выполняться только в случае, если в блоке try произошло исключение. \n",
    " Переменная error содержит информацию об объекте исключения, которое было возбуждено. В данном случае мы используем type(error).__name__, чтобы получить имя класса исключения (например, \"ValueError\", \"TypeError\" и т.д.) и выводим его на экран.\n",
    "\t3.\telse: Этот блок выполняется, если исключение не было возбуждено в блоке try. \n",
    " То есть, если функция func() выполнилась успешно без исключений. В этом случае будет выведено сообщение 'No Exceptions'.\n",
    "\n",
    "Таким образом, приведённый код позволяет контролировать выполнение функции func() и реагировать на возможные исключения. \n",
    "Если ошибки возникают, мы выводим их тип (type(error).__name__), а если ошибок нет, выводим “No Exceptions”\n",
    "\"\"\""
   ]
  },
  {
   "cell_type": "markdown",
   "metadata": {},
   "source": [
    "Ломать — не строить"
   ]
  },
  {
   "cell_type": "code",
   "execution_count": null,
   "metadata": {},
   "outputs": [],
   "source": [
    "try:\n",
    "    func('2', None)\n",
    "except ValueError:\n",
    "    print('Ура! Ошибка!')\n",
    "\"\"\"\n",
    "1.\ttry: В этом блоке мы пытаемся вызвать функцию func() с аргументами '2' и None. \n",
    "При этом мы предполагаем, что внутри функции func() могут возникнуть исключения типа ValueError.\n",
    "\t2.\tfunc(‘2’, None): Здесь вызывается функция func() с аргументами '2' и None. \n",
    " Однако, в описании задачи было сказано, что функция func() не принимает параметры. \n",
    " Поэтому вызов func('2', None) будет вызывать ошибку TypeError, так как функция ожидает 0 аргументов, а мы передаём 2.\n",
    "\t3.\texcept ValueError: В данном случае ожидается, что будет перехвачено исключение ValueError, \n",
    " однако на самом деле при вызове func('2', None) будет возбуждено исключение TypeError, а не ValueError.\n",
    "\"\"\""
   ]
  },
  {
   "cell_type": "markdown",
   "metadata": {},
   "source": [
    "Ломать — не строить 2"
   ]
  },
  {
   "cell_type": "code",
   "execution_count": null,
   "metadata": {},
   "outputs": [],
   "source": [
    "class Broken:\n",
    "    def __repr__(self):\n",
    "        raise Exception\n",
    "\n",
    "\n",
    "try:\n",
    "    a = Broken()\n",
    "    func(a)\n",
    "except Exception:\n",
    "    print('Ура! Ошибка!')\n",
    "\"\"\"\n",
    "Исключение в __repr__(): В Python метод __repr__() обычно используется для представления объекта в текстовом виде, \n",
    "который может быть полезен для отладки и логгирования. Важно избегать вызова исключений в этом методе, \n",
    "так как это может нарушить ожидания других частей программы, которые используют __repr__().\n",
    "Перехват исключений: Блок except Exception в коде перехватывает любое исключение,\n",
    " которое может быть вызвано при создании объекта Broken или при вызове функции func(). \n",
    " Это включает в себя все встроенные исключения в Python, что делает обработку исключений широкой, \n",
    " но иногда может сделать отладку более сложной из-за потенциального скрытия конкретных ошибок.\n",
    " \"\"\""
   ]
  },
  {
   "cell_type": "markdown",
   "metadata": {},
   "source": [
    "Контроль параметров"
   ]
  },
  {
   "cell_type": "code",
   "execution_count": null,
   "metadata": {},
   "outputs": [],
   "source": [
    "def only_positive_even_sum(a, b):\n",
    "    # Проверяем, что оба аргумента a и b являются целыми числами (int)\n",
    "    if not (isinstance(a, int) and isinstance(b, int)):\n",
    "        raise TypeError(\"Аргументы функции должны быть целыми числами\")\n",
    "\n",
    "    # Проверяем, что оба аргумента a и b положительные чётные числа\n",
    "    if not (a > 0 and not a % 2) or not (b > 0 and not b % 2):\n",
    "        raise ValueError(\"Аргументы функции должны быть положительными чётными числами\")\n",
    "\n",
    "    # Если оба условия выполнены, возвращаем сумму a и b\n",
    "    return a + b"
   ]
  },
  {
   "cell_type": "markdown",
   "metadata": {},
   "source": [
    "Слияние с проверкой"
   ]
  },
  {
   "cell_type": "code",
   "execution_count": null,
   "metadata": {},
   "outputs": [],
   "source": [
    "def merge(a, b):\n",
    "    try:\n",
    "        # Пытаемся создать итераторы для объектов a и b\n",
    "        iterator_1 = iter(a)\n",
    "        iterator_2 = iter(b)\n",
    "    except TypeError:\n",
    "        raise StopIteration\n",
    "    \n",
    "    # Проверяем, что все элементы объектов a и b имеют одинаковый тип данных\n",
    "    if not (all(isinstance(I, type(a[0])) for I in a) and all(isinstance(I, type(b[0])) for I in b)):\n",
    "        raise TypeError(\"Элементы должны быть одного типа\")\n",
    "\n",
    "    # Проверяем, что объекты a и b упорядочены по возрастанию\n",
    "    if list(a) != sorted(a) or list(b) != sorted(b):\n",
    "        raise ValueError(\"Элементы должны быть упорядочены по возрастанию\")\n",
    "\n",
    "    # Соединяем объекты a и b в один список c, сортируем его и возвращаем как кортеж\n",
    "    c = list(a) + list(b)\n",
    "    c.sort()\n",
    "    return tuple(c)"
   ]
  },
  {
   "cell_type": "markdown",
   "metadata": {},
   "source": [
    "Корень зла 2"
   ]
  },
  {
   "cell_type": "code",
   "execution_count": null,
   "metadata": {},
   "outputs": [],
   "source": [
    "class InfiniteSolutionsError(Exception):\n",
    "    pass\n",
    "\n",
    "class NoSolutionsError(Exception):\n",
    "    pass\n",
    "\"\"\"\"\n",
    "InfiniteSolutionsError и NoSolutionsError являются пользовательскими исключениями, \n",
    " которые наследуются от встроенного класса Exception. Это позволяет нам создавать исключения с определённым поведением и \n",
    " использовать их для особых случаев в функции find_roots().\n",
    "\n",
    "\"\"\"\n",
    "def find_roots(a, b, c):\n",
    "    # Проверка типов аргументов a, b, c\n",
    "    if sum(1 for i in (a, b, c) if type(i) not in (int, float)):\n",
    "        raise TypeError(\"Аргументы функции должны быть целыми или вещественными числами\")\n",
    "\n",
    "    # Проверка на бесконечное число решений\n",
    "    elif not a and not b and not c:\n",
    "        raise InfiniteSolutionsError(\"Уравнение имеет бесконечное количество решений\")\n",
    "\n",
    "    # Проверка на отсутствие решений\n",
    "    elif not a and not b and c or b ** 2 < 4 * a * c:\n",
    "        raise NoSolutionsError(\"Уравнение не имеет решений\")\n",
    "\n",
    "    # Вычисление корней уравнения\n",
    "    elif b ** 2 == 4 * a * c:\n",
    "        return -b / (2 * a), -b / (2 * a)\n",
    "    elif not a:\n",
    "        return -c / b\n",
    "    else:\n",
    "        roots = [(-b - (b ** 2 - 4 * a * c) ** 0.5) / (2 * a), (-b + (b ** 2 - 4 * a * c) ** 0.5) / (2 * a)]\n",
    "        roots.sort()\n",
    "        return roots[0], roots[1]"
   ]
  },
  {
   "cell_type": "markdown",
   "metadata": {},
   "source": [
    "Валидация имени"
   ]
  },
  {
   "cell_type": "code",
   "execution_count": null,
   "metadata": {},
   "outputs": [],
   "source": [
    "class CyrillicError(Exception):\n",
    "    pass\n",
    "\n",
    "\n",
    "class CapitalError(Exception):\n",
    "    pass\n",
    "# CyrillicError и CapitalError — это пользовательские исключения, /\n",
    "# которые наследуются от встроенного класса Exception. Они используются для обозначения специфических ошибок валидации имени.\n",
    "\n",
    "def name_validation(name):\n",
    "    # Проверка на тип аргумента\n",
    "    if not isinstance(name, str):\n",
    "        raise TypeError(\"Имя должно быть строкой\")\n",
    "\n",
    "    # Проверка на наличие кириллических символов\n",
    "    if sum(i.lower() not in 'абвгдеёжзийклмнопрстуфхцчшщьыъэюя' for i in name):\n",
    "        raise CyrillicError(\"Имя должно содержать только кириллические символы\")\n",
    "\n",
    "    # Проверка на правильный регистр написания\n",
    "    if name != name.lower().capitalize():\n",
    "        raise CapitalError(\"Первая буква имени должна быть заглавной, остальные - строчные\")\n",
    "\n",
    "    # Если все проверки пройдены успешно, возвращаем имя\n",
    "    return name"
   ]
  },
  {
   "cell_type": "markdown",
   "metadata": {},
   "source": [
    "Валидация имени пользователя"
   ]
  },
  {
   "cell_type": "code",
   "execution_count": null,
   "metadata": {},
   "outputs": [],
   "source": [
    "class BadCharacterError(Exception):\n",
    "    pass\n",
    "\n",
    "\n",
    "class StartsWithDigitError(Exception):\n",
    "    pass\n",
    "\n",
    "\n",
    "def username_validation(username):\n",
    "    # Проверка на тип аргумента\n",
    "    if not isinstance(username, str):\n",
    "        raise TypeError(\"Имя пользователя должно быть строкой\")\n",
    "\n",
    "    # Проверка на недопустимые символы\n",
    "    if sum((i.lower() not in '0123456789_abcdefghijklmnopqrstuvwxyz') for i in username):\n",
    "        raise BadCharacterError(\"Имя пользователя содержит недопустимые символы\")\n",
    "\n",
    "    # Проверка на начало с цифры\n",
    "    if username[0].isdigit():\n",
    "        raise StartsWithDigitError(\"Имя пользователя не должно начинаться с цифры\")\n",
    "\n",
    "    # Если все проверки пройдены успешно, возвращаем имя пользователя\n",
    "    return username"
   ]
  },
  {
   "cell_type": "markdown",
   "metadata": {},
   "source": [
    "Валидация пользователя"
   ]
  },
  {
   "cell_type": "code",
   "execution_count": null,
   "metadata": {},
   "outputs": [],
   "source": [
    "class BadCharacterError(Exception):\n",
    "    pass\n",
    "\n",
    "\n",
    "class StartsWithDigitError(Exception):\n",
    "    pass\n",
    "\n",
    "\n",
    "class CyrillicError(Exception):\n",
    "    pass\n",
    "\n",
    "\n",
    "class CapitalError(Exception):\n",
    "    pass\n",
    "\n",
    "\n",
    "def name_validation(name):\n",
    "    # Проверка на тип аргумента\n",
    "    if not isinstance(name, str):\n",
    "        raise TypeError(\"Имя должно быть строкой\")\n",
    "\n",
    "    # Проверка на кириллические символы\n",
    "    if sum(i.lower() not in 'абвгдеёжзийклмнопрстуфхцчшщьыъэюя' for i in name):\n",
    "        raise CyrillicError(\"Имя должно содержать только кириллические символы\")\n",
    "\n",
    "    # Проверка на правильный регистр написания\n",
    "    if name != name.lower().capitalize():\n",
    "        raise CapitalError(\"Первая буква имени должна быть заглавной, остальные - строчные\")\n",
    "\n",
    "    # Если все проверки пройдены успешно, возвращаем имя\n",
    "    return name\n",
    "\n",
    "\n",
    "def username_validation(username):\n",
    "    # Проверка на тип аргумента\n",
    "    if not isinstance(username, str):\n",
    "        raise TypeError(\"Имя пользователя должно быть строкой\")\n",
    "\n",
    "    # Проверка на недопустимые символы\n",
    "    if sum((i.lower() not in '0123456789_abcdefghijklmnopqrstuvwxyz') for i in username):\n",
    "        raise BadCharacterError(\"Имя пользователя содержит недопустимые символы\")\n",
    "\n",
    "    # Проверка на начало с цифры\n",
    "    if username[0].isdigit():\n",
    "        raise StartsWithDigitError(\"Имя пользователя не должно начинаться с цифры\")\n",
    "\n",
    "    # Если все проверки пройдены успешно, возвращаем имя пользователя\n",
    "    return username\n",
    "\n",
    "\n",
    "def user_validation(**kwargs):\n",
    "    # Проверка на наличие трёх ключей: 'last_name', 'first_name', 'username'\n",
    "    if [key for key in kwargs] != ['last_name', 'first_name', 'username'] or len(kwargs) != 3:\n",
    "        raise KeyError(\"Ожидается наличие ключей 'last_name', 'first_name' и 'username'\")\n",
    "\n",
    "    # Проверка на тип значений ключей\n",
    "    if any(not isinstance(value, str) for value in kwargs.values()):\n",
    "        raise TypeError(\"Значения ключей должны быть строками\")\n",
    "\n",
    "    # Валидация имён и имени пользователя\n",
    "    kwargs['last_name'] = name_validation(kwargs['last_name'])\n",
    "    kwargs['first_name'] = name_validation(kwargs['first_name'])\n",
    "    kwargs['username'] = username_validation(kwargs['username'])\n",
    "\n",
    "    # Возврат словаря с валидными данными\n",
    "    return kwargs"
   ]
  },
  {
   "cell_type": "markdown",
   "metadata": {},
   "source": [
    "Валидация пароля"
   ]
  },
  {
   "cell_type": "code",
   "execution_count": null,
   "metadata": {},
   "outputs": [],
   "source": [
    "import hashlib\n",
    "\n",
    "\n",
    "class MinLengthError(Exception):\n",
    "    pass\n",
    "\n",
    "\n",
    "class PossibleCharError(Exception):\n",
    "    pass\n",
    "\n",
    "\n",
    "class NeedCharError(Exception):\n",
    "    pass\n",
    "\n",
    "\n",
    "def password_validation(password, min_length=8,\n",
    "                        possible_chars='ABCDEFGHIJKLMNOPQRSTUVWXYZabcdefghijklmnopqrstuvwxyz0123456789',\n",
    "                        at_least_one=str.isdigit):\n",
    "    # Проверка на тип аргумента\n",
    "    if not isinstance(password, str):\n",
    "        raise TypeError(\"Пароль должен быть строкой\")\n",
    "\n",
    "    # Проверка на минимальную длину пароля\n",
    "    if len(password) < min_length:\n",
    "        raise MinLengthError(f\"Минимальная длина пароля должна быть {min_length} символов\")\n",
    "\n",
    "    # Проверка на допустимые символы\n",
    "    if any(char not in possible_chars for char in password):\n",
    "        raise PossibleCharError(\"Пароль содержит недопустимые символы\")\n",
    "\n",
    "    # Проверка на наличие хотя бы одной специальной категории символов\n",
    "    if not any(map(at_least_one, password)):\n",
    "        raise NeedCharError(\"Пароль должен содержать хотя бы один символ из специальной категории\")\n",
    "\n",
    "    # Если все проверки пройдены успешно, возвращаем хеш пароля\n",
    "    return hashlib.sha256(password.encode()).hexdigest()"
   ]
  }
 ],
 "metadata": {
  "language_info": {
   "name": "python"
  }
 },
 "nbformat": 4,
 "nbformat_minor": 2
}
