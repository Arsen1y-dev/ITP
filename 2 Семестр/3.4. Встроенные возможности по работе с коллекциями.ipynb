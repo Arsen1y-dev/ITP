{
 "cells": [
  {
   "cell_type": "markdown",
   "metadata": {},
   "source": [
    "3.4. Встроенные возможности по работе с коллекциями"
   ]
  },
  {
   "cell_type": "markdown",
   "metadata": {},
   "source": [
    "Автоматизация списка"
   ]
  },
  {
   "cell_type": "code",
   "execution_count": null,
   "metadata": {},
   "outputs": [],
   "source": [
    "# Считываем строку ввода, разбиваем её на слова и перечисляем их\n",
    "for index, word in enumerate(input().split(), start=1):\n",
    "    # Выводим каждое слово с его порядковым номером\n",
    "    print(f'{index}. {word}')"
   ]
  },
  {
   "cell_type": "markdown",
   "metadata": {},
   "source": [
    "Сборы на прогулку"
   ]
  },
  {
   "cell_type": "code",
   "execution_count": null,
   "metadata": {},
   "outputs": [],
   "source": [
    "# Считываем две строки ввода, разбиваем их на списки по запятой и пробелу\n",
    "a := input().split(', ')\n",
    "b := input().split(', ')\n",
    "\n",
    "# Итерируемся по парам элементов из списков a и b с использованием zip\n",
    "for kids in zip(a, b):\n",
    "    # Выводим каждую пару в формате \"элемент из списка a - элемент из списка b\"\n",
    "    print(f'{kids[0]} - {kids[1]}')"
   ]
  },
  {
   "cell_type": "markdown",
   "metadata": {},
   "source": [
    "Рациональная считалочка"
   ]
  },
  {
   "cell_type": "code",
   "execution_count": null,
   "metadata": {},
   "outputs": [],
   "source": [
    "from itertools import count\n",
    "\n",
    "# Считываем строку ввода, содержащую три числа, разделяемые пробелами\n",
    "a, b, step = list(map(float, input().split()))\n",
    "\n",
    "# Начинаем бесконечный цикл с использованием функции count из модуля itertools\n",
    "for value in count(a, step):\n",
    "    # Проверяем, что текущее значение value не превышает b\n",
    "    if value <= b:\n",
    "        # Выводим значение value с двумя знаками после запятой\n",
    "        print(f'{value:.2f}')\n",
    "    else:\n",
    "        # Если значение value превышает b, выходим из цикла\n",
    "        break"
   ]
  },
  {
   "cell_type": "markdown",
   "metadata": {},
   "source": [
    "Словарная ёлка"
   ]
  },
  {
   "cell_type": "code",
   "execution_count": null,
   "metadata": {},
   "outputs": [],
   "source": [
    "from itertools import accumulate\n",
    "\n",
    "# Считываем строку ввода, разбиваем её на список слов\n",
    "input_words = input().split()\n",
    "\n",
    "# Применяем функцию accumulate к списку слов, каждое слово предваряем пробелом\n",
    "for value in accumulate(map(lambda x: ' ' + x, input_words)):\n",
    "    # Выводим каждое накопленное значение, начиная с первого символа (чтобы удалить лишний пробел в начале)\n",
    "    print(value[1:])"
   ]
  },
  {
   "cell_type": "markdown",
   "metadata": {},
   "source": [
    "Список покупок"
   ]
  },
  {
   "cell_type": "code",
   "execution_count": null,
   "metadata": {},
   "outputs": [],
   "source": [
    "items = set()\n",
    "\n",
    "# Цикл для ввода данных три раза\n",
    "for _ in range(3):\n",
    "    # Добавляем элементы множества items, объединяя его с новым множеством,\n",
    "    # содержащим элементы, введенные пользователем и разделенные запятой и пробелом\n",
    "    items = items.union({item for item in input().split(', ')})\n",
    "\n",
    "# Цикл для вывода отсортированных элементов множества items\n",
    "for I, item in enumerate(sorted(items), start=1):\n",
    "    # Выводим каждый элемент множества с его порядковым номером, начиная с 1\n",
    "    print(f'{I}. {item}')"
   ]
  },
  {
   "cell_type": "markdown",
   "metadata": {},
   "source": [
    "Колода карт"
   ]
  },
  {
   "cell_type": "code",
   "execution_count": null,
   "metadata": {},
   "outputs": [],
   "source": [
    "from itertools import product\n",
    "\n",
    "# Список номиналов карт\n",
    "nominal = [2, 3, 4, 5, 6, 7, 8, 9, 10, 'валет', 'дама', 'король', 'туз']\n",
    "\n",
    "# Список мастей карт\n",
    "suits = ['пик', 'треф', 'бубен', 'червей']\n",
    "\n",
    "# Удаляем из списка мастей ту масть, которую введет пользователь\n",
    "suits.remove(input())\n",
    "\n",
    "# Генерируем все возможные комбинации номиналов и мастей карт с помощью функции product из itertools\n",
    "for card in product(nominal, suits):\n",
    "    # Выводим каждую комбинацию (номинал и масть)\n",
    "    print(card[0], card[1])"
   ]
  },
  {
   "cell_type": "markdown",
   "metadata": {},
   "source": [
    "Игровая сетка"
   ]
  },
  {
   "cell_type": "code",
   "execution_count": null,
   "metadata": {},
   "outputs": [],
   "source": [
    "from itertools import product\n",
    "\n",
    "players, games = [], []\n",
    "\n",
    "# Считываем количество игроков\n",
    "for _ in range(int(input())):\n",
    "    # Добавляем каждого игрока в список players\n",
    "    players.append(input())\n",
    "\n",
    "# Генерируем все возможные комбинации пар игроков\n",
    "for I in product(players, players):\n",
    "    # Проверяем, что первый игрок не равен второму и что такая пара еще не была выведена\n",
    "    if I[0] != I[1] and [I[1], I[0]] not in games:\n",
    "        # Добавляем текущую пару игроков в список games\n",
    "        games.append([I[0], I[1]])\n",
    "        # Выводим пару игроков в формате \"игрок1 - игрок2\"\n",
    "        print(f'{I[0]} - {I[1]}')"
   ]
  },
  {
   "cell_type": "markdown",
   "metadata": {},
   "source": [
    "Меню питания 2.0"
   ]
  },
  {
   "cell_type": "code",
   "execution_count": null,
   "metadata": {},
   "outputs": [],
   "source": [
    "cereals = []\n",
    "\n",
    "# Считываем количество видов хлопьев и сами виды хлопьев\n",
    "for _ in range(int(input())):\n",
    "    cereals.append(input())\n",
    "\n",
    "# Считываем количество раз, которое нужно повторить список видов хлопьев\n",
    "amount = int(input())\n",
    "\n",
    "# Расширяем список видов хлопьев, чтобы он содержал достаточное количество элементов\n",
    "cereals *= amount // len(cereals) + 1\n",
    "\n",
    "# Выводим элементы списка видов хлопьев нужное количество раз\n",
    "for I in range(amount):\n",
    "    print(cereals[I])"
   ]
  },
  {
   "cell_type": "markdown",
   "metadata": {},
   "source": [
    "Таблица умножения 3.0"
   ]
  },
  {
   "cell_type": "code",
   "execution_count": null,
   "metadata": {},
   "outputs": [],
   "source": [
    "from itertools import product\n",
    "\n",
    "# Считываем число, до которого будет идти диапазон\n",
    "for I in (n := range(1, int(input()) + 1)):\n",
    "    # Генерируем произведения элементов из диапазона n на текущее значение I\n",
    "    print(' '.join(map(lambda x: str(x[0] * x[1]), product(n, [I]))))"
   ]
  },
  {
   "cell_type": "markdown",
   "metadata": {},
   "source": [
    "Мы делили апельсин 2.0"
   ]
  },
  {
   "cell_type": "code",
   "execution_count": null,
   "metadata": {},
   "outputs": [],
   "source": [
    "# Считываем число с клавиатуры и присваиваем его переменной n\n",
    "n = int(input())\n",
    "\n",
    "# Внешний цикл итерируется от 1 до n-2\n",
    "for I in range(1, n - 1):\n",
    "    # При первой итерации внешнего цикла выводим строку 'А Б В'\n",
    "    if I == 1:\n",
    "        print('А Б В')\n",
    "    \n",
    "    # Внутренний цикл итерируется от 1 до n-I-1\n",
    "    for j in range(1, n - I):\n",
    "        # Выводим текущие значения I, j и n-I-j в формате строки\n",
    "        print(f'{I} {j} {n - I - j}')"
   ]
  },
  {
   "cell_type": "markdown",
   "metadata": {},
   "source": [
    "Числовой прямоугольник 3.0"
   ]
  },
  {
   "cell_type": "code",
   "execution_count": null,
   "metadata": {},
   "outputs": [],
   "source": [
    "from itertools import product\n",
    "\n",
    "# Считываем значения n и m с клавиатуры\n",
    "n, m = int(input()), int(input())\n",
    "\n",
    "# Внешний цикл итерируется от 0 до n-1\n",
    "for I in range(n):\n",
    "    # Создаем генератор всех возможных комбинаций из range(1, m+1) и [I * m]\n",
    "    line = product(range(1, m + 1), [I * m])\n",
    "    \n",
    "    # Собираем строку из элементов line, преобразуя их в строки, складывая значения и выравнивая их по длине\n",
    "    print(' '.join(map(lambda x: str(sum(x)).rjust(len(str((n - 1 - I) * m + sum(x))), ' '), line)))"
   ]
  },
  {
   "cell_type": "markdown",
   "metadata": {},
   "source": [
    "Список покупок 2.0"
   ]
  },
  {
   "cell_type": "code",
   "execution_count": null,
   "metadata": {},
   "outputs": [],
   "source": [
    "items = []\n",
    "\n",
    "# Считываем количество строк (или элементов) и добавляем каждый элемент из ввода в список items\n",
    "for _ in range(int(input())):\n",
    "    items.extend([item for item in input().split(', ')])\n",
    "\n",
    "# Сортируем список items и выводим каждый элемент с его индексом\n",
    "for I, item in enumerate(sorted(items), start=1):\n",
    "    print(f'{I}. {item}')"
   ]
  },
  {
   "cell_type": "markdown",
   "metadata": {},
   "source": [
    "Расстановка спортсменов"
   ]
  },
  {
   "cell_type": "code",
   "execution_count": null,
   "metadata": {},
   "outputs": [],
   "source": [
    "from itertools import permutations\n",
    "\n",
    "items = []\n",
    "\n",
    "# Считываем количество строк (или элементов) и добавляем каждый элемент из ввода в список items\n",
    "for _ in range(int(input())):\n",
    "    items.append(input())\n",
    "\n",
    "# Сортируем все перестановки элементов списка items и выводим каждую перестановку\n",
    "for perm in sorted(permutations(items)):\n",
    "    # Выводим текущую перестановку, объединяя элементы через запятую и пробел\n",
    "    print(', '.join(perm))"
   ]
  },
  {
   "cell_type": "markdown",
   "metadata": {},
   "source": [
    "Спортивные гадания"
   ]
  },
  {
   "cell_type": "code",
   "execution_count": null,
   "metadata": {},
   "outputs": [],
   "source": [
    "from itertools import permutations\n",
    "\n",
    "items = []\n",
    "\n",
    "# Считываем количество строк (или элементов) и добавляем каждый элемент из ввода в список items\n",
    "for _ in range(int(input())):\n",
    "    items.append(input())\n",
    "\n",
    "# Генерируем все возможные перестановки элементов списка items длиной 3 и сортируем их\n",
    "for perm in sorted(permutations(items, 3)):\n",
    "    # Выводим текущую перестановку, объединяя элементы через запятую и пробел\n",
    "    print(', '.join(perm))"
   ]
  },
  {
   "cell_type": "markdown",
   "metadata": {},
   "source": [
    "Список покупок 3.0"
   ]
  },
  {
   "cell_type": "code",
   "execution_count": null,
   "metadata": {},
   "outputs": [],
   "source": [
    "from itertools import permutations\n",
    "\n",
    "items = []\n",
    "\n",
    "# Считываем количество строк (или элементов) и добавляем каждый элемент из ввода в список items\n",
    "for _ in range(int(input())):\n",
    "    # Разделяем введенную строку по запятой с пробелом и добавляем каждый элемент в список items\n",
    "    items.extend([item for item in input().split(', ')])\n",
    "\n",
    "# Генерируем все возможные перестановки элементов списка items длиной 3 и сортируем их\n",
    "for item in sorted(permutations(items, 3)):\n",
    "    # Выводим текущую перестановку, объединяя элементы через пробел\n",
    "    print(' '.join(item))"
   ]
  },
  {
   "cell_type": "markdown",
   "metadata": {},
   "source": [
    "Расклад таков..."
   ]
  },
  {
   "cell_type": "code",
   "execution_count": null,
   "metadata": {},
   "outputs": [],
   "source": [
    "from itertools import product, permutations\n",
    "\n",
    "# Задаем список мастей в русском порядке\n",
    "suits_ro = [\"бубен\", \"пик\", \"треф\", \"червей\"]\n",
    "\n",
    "# Считываем ввод пользователя: масть и исключение\n",
    "suit, exception = input(), input()\n",
    "\n",
    "# Находим наилучшую масть для заданной масти (первые три символа)\n",
    "best_suit = [s for s in suits_ro if s.startswith(suit[0:3])][0]\n",
    "\n",
    "# Задаем список номиналов карт\n",
    "nominal = [\"2\", \"3\", \"4\", \"5\", \"6\", \"7\", \"8\", \"9\", \"10\", \"валет\", \"дама\", \"король\", \"туз\"]\n",
    "\n",
    "# Исключаем указанное исключение из списка номиналов\n",
    "nominal.remove(exception)\n",
    "\n",
    "# Генерируем все возможные комбинации троек карт (название номинала и масть)\n",
    "comb = permutations(product(sorted(nominal), sorted(suits_ro)), 3)\n",
    "\n",
    "# Формируем список строк для каждой комбинации троек карт\n",
    "y = [', '.join(' '.join(j) for j in sorted(i)) for i in comb]\n",
    "\n",
    "# Отбираем первые 10 комбинаций, в которых есть наилучшая масть\n",
    "triads = [I for I in y if best_suit in I][:10]\n",
    "\n",
    "# Выводим каждую из выбранных троек на экран\n",
    "for triad in triads:\n",
    "    print(triad)"
   ]
  },
  {
   "cell_type": "markdown",
   "metadata": {},
   "source": [
    "А есть ещё варианты?"
   ]
  },
  {
   "cell_type": "code",
   "execution_count": null,
   "metadata": {},
   "outputs": [],
   "source": [
    "from itertools import product, permutations\n",
    "\n",
    "# Задаем список мастей в русском порядке и сортируем его\n",
    "suits_ro = sorted([\"бубен\", \"пик\", \"треф\", \"червей\"])\n",
    "\n",
    "# Считываем с клавиатуры: заданную масть, исключение и ситуацию\n",
    "suit, exception, situation = input(), input(), input()\n",
    "\n",
    "# Находим наилучшую масть для заданной масти (первые три символа)\n",
    "best_suit = [s for s in suits_ro if s.startswith(suit[0:3])][0]\n",
    "\n",
    "# Задаем список номиналов карт и сортируем его\n",
    "nominal = sorted([\"2\", \"3\", \"4\", \"5\", \"6\", \"7\", \"8\", \"9\", \"10\", \"валет\", \"дама\", \"король\", \"туз\"])\n",
    "\n",
    "# Исключаем указанное исключение из списка номиналов\n",
    "nominal.remove(exception)\n",
    "\n",
    "# Генерируем все возможные комбинации троек карт (номинал и масть)\n",
    "comb = permutations(product(nominal, suits_ro), 3)\n",
    "\n",
    "# Формируем множество уникальных строк для каждой комбинации троек карт\n",
    "y = sorted(set([', '.join(' '.join(j) for j in sorted(i)) for i in comb]))\n",
    "\n",
    "# Отбираем строки, содержащие наилучшую масть\n",
    "triads = [I for I in y if best_suit in I]\n",
    "\n",
    "# Проходимся по отобранным строкам и ищем совпадение с заданной ситуацией\n",
    "for ind, triad in enumerate(triads):\n",
    "    if triad == situation:\n",
    "        # Выводим следующую тройку после найденной ситуации\n",
    "        print(triads[ind + 1])\n",
    "        break"
   ]
  },
  {
   "cell_type": "markdown",
   "metadata": {},
   "source": [
    "Таблица истинности"
   ]
  },
  {
   "cell_type": "code",
   "execution_count": null,
   "metadata": {},
   "outputs": [],
   "source": [
    "x = input()  # Считываем выражение с клавиатуры\n",
    "print('a b c f')  # Выводим заголовок для таблицы\n",
    "\n",
    "# Цикл для перебора всех возможных значений a, b, c (от 000 до 111 в двоичном представлении)\n",
    "for i in range(8):\n",
    "    # Преобразуем текущее значение i в двоичное представление и добавляем нули в начало до длины 3 символа\n",
    "    values = list(bin(i)[2:].zfill(3))\n",
    "    a, b, c = map(int, values)  # Преобразуем значения из строк в целые числа\n",
    "    print(' '.join(values), int(eval(x)))  # Выводим значения a, b, c и результат вычисления выражения x"
   ]
  },
  {
   "cell_type": "markdown",
   "metadata": {},
   "source": [
    "Таблица истинности 2"
   ]
  },
  {
   "cell_type": "code",
   "execution_count": null,
   "metadata": {},
   "outputs": [],
   "source": [
    "x = input()  # Считываем выражение или функцию с клавиатуры\n",
    "args = sorted({I for I in x if I.isupper()})  # Находим все уникальные заглавные буквы в строке x и сортируем их\n",
    "print(' '.join(args), 'F')  # Выводим заголовок столбцов с аргументами и результатом функции\n",
    "\n",
    "# Цикл для перебора всех возможных комбинаций значений аргументов\n",
    "for i in range(2 ** len(args)):\n",
    "    # Преобразуем текущее значение i в двоичное представление и заполняем нулями до длины, равной количеству аргументов\n",
    "    values = list(bin(i)[2:].zfill(len(args)))\n",
    "    \n",
    "    # Выполняем динамическое присваивание значений аргументам на основе текущих двоичных значений\n",
    "    exec(', '.join(args) + \" = map(int, values)\")\n",
    "    \n",
    "    # Выводим текущие значения аргументов в виде строки и результат вычисления выражения x\n",
    "    print(' '.join(values), int(eval(x)))"
   ]
  },
  {
   "cell_type": "markdown",
   "metadata": {},
   "source": [
    "Таблицы истинности 3"
   ]
  },
  {
   "cell_type": "code",
   "execution_count": null,
   "metadata": {},
   "outputs": [],
   "source": [
    "from itertools import product\n",
    "\n",
    "# Словарь операторов и их эквивалентов для выражения в постфиксной записи\n",
    "OPERATORS = {\n",
    "    'not': 'not',\n",
    "    'and': 'and',\n",
    "    'or': 'or',\n",
    "    '^': '!=',\n",
    "    '->': '<=',\n",
    "    '~': '==',\n",
    "}\n",
    "\n",
    "# Приоритет операторов для определения порядка операций\n",
    "PRIORITY = {\n",
    "    'not': 0,\n",
    "    'and': 1,\n",
    "    'or': 2,\n",
    "    '^': 3,\n",
    "    '->': 4,\n",
    "    '~': 5,\n",
    "    '(': 6,\n",
    "}\n",
    "\n",
    "def postfix_expression(expression, variables):\n",
    "    \"\"\"Преобразует инфиксное выражение в постфиксную запись.\"\"\"\n",
    "    stack, result, lst = [], [], expression.split()\n",
    "    for i in lst:\n",
    "        if i in variables:\n",
    "            result.append(i)  # Добавляем переменную в выходную строку\n",
    "        elif i == '(':\n",
    "            stack.append(i)  # Открывающая скобка добавляется в стек\n",
    "        elif i == ')':\n",
    "            while stack[-1] != '(':  # Пока не встретим открывающую скобку\n",
    "                result.append(OPERATORS[stack.pop()])  # Перемещаем операторы из стека в выходную строку\n",
    "            stack.pop()  # Удаляем открывающую скобку из стека\n",
    "        elif i in OPERATORS.keys():\n",
    "            # Пока оператор на вершине стека имеет больший или равный приоритет\n",
    "            while len(stack) and PRIORITY[i] >= PRIORITY[stack[-1]]:\n",
    "                result.append(OPERATORS[stack.pop()])  # Перемещаем операторы из стека в выходную строку\n",
    "            stack.append(i)  # Добавляем текущий оператор в стек\n",
    "    # Перемещаем оставшиеся операторы из стека в выходную строку\n",
    "    for _ in range(len(stack)):\n",
    "        result.append(OPERATORS[stack.pop()])\n",
    "    return result  # Возвращаем постфиксную запись выражения\n",
    "\n",
    "def result_of_expression(postfix_exp, variables):\n",
    "    \"\"\"Вычисляет результат логического выражения в постфиксной записи.\"\"\"\n",
    "    stack = []\n",
    "    for i in range(len(postfix_exp)):\n",
    "        if postfix_exp[i] in variables.keys():\n",
    "            stack.append(variables[postfix_exp[i]])  # Добавляем значение переменной в стек\n",
    "        else:\n",
    "            if postfix_exp[i] == 'not':\n",
    "                stack.append(not stack.pop())  # Применяем операцию NOT к вершине стека\n",
    "            else:\n",
    "                var2, var1 = stack.pop(), stack.pop()  # Извлекаем два значения из стека\n",
    "                stack.append(eval(f'{var1} {postfix_exp[i]} {var2}'))  # Вычисляем выражение и добавляем результат в стек\n",
    "    return int(stack.pop())  # Возвращаем результат вычисления как целое число\n",
    "\n",
    "# Считываем логическое выражение с клавиатуры\n",
    "statement = input()\n",
    "\n",
    "# Находим все уникальные переменные и сортируем их\n",
    "var_all = sorted(set([i for i in statement if i.isupper()]))\n",
    "\n",
    "# Выводим заголовок таблицы с переменными и результатом выражения\n",
    "print(' '.join(var_all), 'F')\n",
    "\n",
    "# Генерируем все возможные комбинации значений переменных (0 и 1)\n",
    "table = product([0, 1], repeat=len(var_all))\n",
    "\n",
    "# Обрабатываем выражение для замены скобок пробелами\n",
    "statement = statement.replace('(', '( ').replace(')', ' )')\n",
    "exp = postfix_expression(statement, var_all)  # Преобразуем выражение в постфиксную запись\n",
    "\n",
    "# Проходимся по каждой комбинации значений переменных\n",
    "for row in table:\n",
    "    res = {}\n",
    "    for k, v in zip(var_all, row):\n",
    "        res[k] = v\n",
    "    # Выводим текущую комбинацию значений и результат вычисления выражения\n",
    "    print(' '.join(str(x) for x in row), result_of_expression(exp, res))"
   ]
  }
 ],
 "metadata": {
  "kernelspec": {
   "display_name": "Python 3",
   "language": "python",
   "name": "python3"
  },
  "language_info": {
   "name": "python",
   "version": "3.11.7"
  }
 },
 "nbformat": 4,
 "nbformat_minor": 2
}
