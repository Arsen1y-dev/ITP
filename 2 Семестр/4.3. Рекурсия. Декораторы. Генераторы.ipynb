{
 "cells": [
  {
   "cell_type": "markdown",
   "metadata": {},
   "source": [
    "4.3. Рекурсия. Декораторы. Генераторы"
   ]
  },
  {
   "cell_type": "markdown",
   "metadata": {},
   "source": [
    "Рекурсивный сумматор"
   ]
  },
  {
   "cell_type": "code",
   "execution_count": null,
   "metadata": {},
   "outputs": [],
   "source": [
    "def recursive_sum(*args):\n",
    "    # Базовый случай: если нет аргументов, возвращаем 0\n",
    "    if not args:\n",
    "        return 0\n",
    "    # Рекурсивный случай: суммируем первый аргумент с результатом рекурсивного вызова с оставшимися аргументами\n",
    "    else:\n",
    "        return args[0] + recursive_sum(*args[1:])\n"
   ]
  },
  {
   "cell_type": "markdown",
   "metadata": {},
   "source": [
    "Рекурсивный сумматор цифр"
   ]
  },
  {
   "cell_type": "code",
   "execution_count": null,
   "metadata": {},
   "outputs": [],
   "source": [
    "def recursive_digit_sum(n):\n",
    "    # Базовый случай: если n равно 0, возвращаем 0\n",
    "    if n == 0:\n",
    "        return 0\n",
    "    # Рекурсивный случай: добавляем последнюю цифру к результату рекурсивного вызова с числом без последней цифры\n",
    "    else:\n",
    "        return n % 10 + recursive_digit_sum(n // 10)\n"
   ]
  },
  {
   "cell_type": "markdown",
   "metadata": {},
   "source": [
    "Многочлен N-ой степени"
   ]
  },
  {
   "cell_type": "code",
   "execution_count": null,
   "metadata": {},
   "outputs": [],
   "source": [
    "def make_equation(*args):\n",
    "    \"\"\"\n",
    "    Создает строковое представление уравнения из последовательности чисел.\n",
    "    \"\"\"\n",
    "    if len(args) == 1:\n",
    "        # Если всего одно число, просто возвращаем его строковое представление\n",
    "        return str(args[0])\n",
    "    else:\n",
    "        # Рекурсивно строим уравнение\n",
    "        # line - строка, представляющая последний член уравнения\n",
    "        line = ') * x ' + ('- ' if args[-1] < 0 else '+ ') + str(abs(args[-1]))  # Используем abs для правильного знака\n",
    "        # Рекурсивно вызываем make_equation для всех чисел кроме последнего\n",
    "        return '(' + make_equation(*args[:-1]) + line "
   ]
  },
  {
   "cell_type": "markdown",
   "metadata": {},
   "source": [
    "Декор результата"
   ]
  },
  {
   "cell_type": "code",
   "execution_count": null,
   "metadata": {},
   "outputs": [],
   "source": [
    "def answer(func):\n",
    "    def wrapper(*args, **kwargs):\n",
    "        # Вызываем исходную функцию с переданными аргументами\n",
    "        result = func(*args, **kwargs)\n",
    "        # Возвращаем результат с припиской\n",
    "        return f\"Результат функции: {result}\"\n",
    "    return wrapper\n"
   ]
  },
  {
   "cell_type": "markdown",
   "metadata": {},
   "source": [
    "Накопление результата"
   ]
  },
  {
   "cell_type": "code",
   "execution_count": null,
   "metadata": {},
   "outputs": [],
   "source": [
    "def result_accumulator(func):\n",
    "    \"\"\"\n",
    "    Декоратор, который накапливает результаты вызова декорируемой функции.\n",
    "    \"\"\"\n",
    "    result = []  # Список для хранения результатов вызовов\n",
    "\n",
    "    def wrap(*args, method=\"accumulate\"):\n",
    "        result.append(func(*args))  # Добавляем результат вызова функции в список\n",
    "        if method == \"drop\":  # Если требуется сбросить результаты\n",
    "            temp = result.copy()  # Создаем копию списка результатов\n",
    "            result.clear()  # Очищаем исходный список\n",
    "            return temp  # Возвращаем копию\n",
    "    return wrap  # Возвращаем оберточную функци"
   ]
  },
  {
   "cell_type": "markdown",
   "metadata": {},
   "source": [
    "Сортировка слиянием"
   ]
  },
  {
   "cell_type": "code",
   "execution_count": null,
   "metadata": {},
   "outputs": [],
   "source": [
    "def merge(left, right):\n",
    "    result = []\n",
    "    i = j = 0\n",
    "    \n",
    "    # Сливаем два списка\n",
    "    while i < len(left) and j < len(right):\n",
    "        if left[i] <= right[j]:\n",
    "            result.append(left[i])\n",
    "            i += 1\n",
    "        else:\n",
    "            result.append(right[j])\n",
    "            j += 1\n",
    "    \n",
    "    # Добавляем оставшиеся элементы\n",
    "    result.extend(left[i:])\n",
    "    result.extend(right[j:])\n",
    "    \n",
    "    return result\n",
    "\n",
    "\n",
    "def merge_sort(lst):\n",
    "    if len(lst) <= 1:\n",
    "        return lst\n",
    "    \n",
    "    # Разделение списка на две части\n",
    "    mid = len(lst) // 2\n",
    "    left = merge_sort(lst[:mid])\n",
    "    right = merge_sort(lst[mid:])\n",
    "    \n",
    "    # Слияние двух отсортированных частей\n",
    "    return merge(left, right)\n"
   ]
  },
  {
   "cell_type": "markdown",
   "metadata": {},
   "source": [
    "Однотипность не порок"
   ]
  },
  {
   "cell_type": "code",
   "execution_count": null,
   "metadata": {},
   "outputs": [],
   "source": [
    "def same_type(func):\n",
    "    def wrapper(*args, **kwargs):\n",
    "        if len(args) > 1:\n",
    "            first_type = type(args[0])\n",
    "            for arg in args[1:]:\n",
    "                if not isinstance(arg, first_type):\n",
    "                    print(\"Обнаружены различные типы данных\")\n",
    "                    return\n",
    "        return func(*args, **kwargs)\n",
    "    return wrapper\n"
   ]
  },
  {
   "cell_type": "markdown",
   "metadata": {},
   "source": [
    "Генератор Фибоначчи"
   ]
  },
  {
   "cell_type": "code",
   "execution_count": null,
   "metadata": {},
   "outputs": [],
   "source": [
    "def fibonacci(n):\n",
    "    a, b = 0, 1\n",
    "    for _ in range(n):\n",
    "        yield a\n",
    "        a, b = b, a + b\n",
    "#  Каждый раз в цикле значение переменной a возвращается с помощью yield"
   ]
  },
  {
   "cell_type": "markdown",
   "metadata": {},
   "source": [
    "Циклический генератор"
   ]
  },
  {
   "cell_type": "code",
   "execution_count": null,
   "metadata": {},
   "outputs": [],
   "source": [
    "def cycle(lst):\n",
    "    while True:\n",
    "        for item in lst:\n",
    "            yield item\n"
   ]
  },
  {
   "cell_type": "markdown",
   "metadata": {},
   "source": [
    "\"Выпрямление\" списка"
   ]
  },
  {
   "cell_type": "code",
   "execution_count": null,
   "metadata": {},
   "outputs": [],
   "source": [
    "def make_linear(lst):\n",
    "    result = []\n",
    "    for element in lst:\n",
    "        if isinstance(element, list):\n",
    "            result.extend(make_linear(element))\n",
    "        else:\n",
    "            result.append(element)\n",
    "    return result\n"
   ]
  }
 ],
 "metadata": {
  "kernelspec": {
   "display_name": "Python 3",
   "language": "python",
   "name": "python3"
  },
  "language_info": {
   "name": "python",
   "version": "3.11.7"
  }
 },
 "nbformat": 4,
 "nbformat_minor": 2
}
