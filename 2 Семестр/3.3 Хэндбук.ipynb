{
 "cells": [
  {
   "cell_type": "markdown",
   "metadata": {},
   "source": [
    "3.3. Списочные выражения. Модель памяти для типов языка Python"
   ]
  },
  {
   "cell_type": "markdown",
   "metadata": {},
   "source": [
    "Список квадратов"
   ]
  },
  {
   "cell_type": "code",
   "execution_count": null,
   "metadata": {},
   "outputs": [],
   "source": [
    "[number ** 2 for number in range(a, b + 1)]"
   ]
  },
  {
   "cell_type": "markdown",
   "metadata": {},
   "source": [
    "Таблица умножения 2.0"
   ]
  },
  {
   "cell_type": "code",
   "execution_count": null,
   "metadata": {},
   "outputs": [],
   "source": [
    "[[i * j for i in range(1, n + 1)] for j in range(1, n + 1)]"
   ]
  },
  {
   "cell_type": "markdown",
   "metadata": {},
   "source": [
    "Длины всех слов"
   ]
  },
  {
   "cell_type": "code",
   "execution_count": null,
   "metadata": {},
   "outputs": [],
   "source": [
    "[len(word) for word in sentence.split()]"
   ]
  },
  {
   "cell_type": "markdown",
   "metadata": {},
   "source": [
    "Множество нечетных чисел"
   ]
  },
  {
   "cell_type": "code",
   "execution_count": null,
   "metadata": {},
   "outputs": [],
   "source": [
    "{num for num in numbers if num % 2 != 0}"
   ]
  },
  {
   "cell_type": "markdown",
   "metadata": {},
   "source": [
    "Множество всех полных квадратов"
   ]
  },
  {
   "cell_type": "code",
   "execution_count": null,
   "metadata": {},
   "outputs": [],
   "source": [
    "{number for number in numbers if number in [i ** 2 for i in range(1, int(max(numbers) ** 0.5 + 1))]}"
   ]
  },
  {
   "cell_type": "markdown",
   "metadata": {},
   "source": [
    "Буквенная статистика"
   ]
  },
  {
   "cell_type": "code",
   "execution_count": null,
   "metadata": {},
   "outputs": [],
   "source": [
    "{letter: text.lower().count(letter) for letter in set(text.lower()) if letter.isalpha()}"
   ]
  },
  {
   "cell_type": "markdown",
   "metadata": {},
   "source": [
    "Делители"
   ]
  },
  {
   "cell_type": "code",
   "execution_count": null,
   "metadata": {},
   "outputs": [],
   "source": [
    "{number: [i for i in range(1, number + 1) if not number % i] for number in numbers}"
   ]
  },
  {
   "cell_type": "markdown",
   "metadata": {},
   "source": [
    "Аббревиатура"
   ]
  },
  {
   "cell_type": "code",
   "execution_count": null,
   "metadata": {},
   "outputs": [],
   "source": [
    "''.join(word[0] for word in string.split()).upper()"
   ]
  },
  {
   "cell_type": "markdown",
   "metadata": {},
   "source": [
    "Преобразование в строку"
   ]
  },
  {
   "cell_type": "code",
   "execution_count": null,
   "metadata": {},
   "outputs": [],
   "source": [
    "' - '.join(str(i) for i in sorted(set(numbers)))"
   ]
  },
  {
   "cell_type": "markdown",
   "metadata": {},
   "source": [
    "RLE наоборот"
   ]
  },
  {
   "cell_type": "code",
   "execution_count": null,
   "metadata": {},
   "outputs": [],
   "source": [
    "''.join([symbol * count for symbol, count in rle])"
   ]
  },
  {
   "cell_type": "markdown",
   "metadata": {},
   "source": [
    "1. **[number ** 2 for number in range(a, b + 1)]**\n",
    "    - **range(a, b + 1)**: создаёт последовательность чисел от `a` до `b` включительно.\n",
    "    - **number ** 2**: возводит каждое число в квадрат.\n",
    "    - Результат: список квадратов чисел от `a` до `b` включительно.\n",
    "\n",
    "2. **[[i * j for i in range(1, n + 1)] for j in range(1, n + 1)]**\n",
    "    - Внешний генератор: **for j in range(1, n + 1)**: проходит по числам от 1 до `n`.\n",
    "    - Внутренний генератор: **for i in range(1, n + 1)**: для каждого `j` создаёт список произведений `i * j`.\n",
    "    - Результат: таблица умножения в виде списка списков.\n",
    "\n",
    "3. **[len(word) for word in sentence.split()]**\n",
    "    - **sentence.split()**: разбивает строку `sentence` на список слов.\n",
    "    - **len(word)**: вычисляет длину каждого слова.\n",
    "    - Результат: список длин слов в предложении.\n",
    "\n",
    "4. **{num for num in numbers if num % 2 != 0}**\n",
    "    - **for num in numbers**: проходит по всем элементам в `numbers`.\n",
    "    - **if num % 2 != 0**: проверяет, является ли число нечётным.\n",
    "    - Результат: множество нечётных чисел из списка `numbers`.\n",
    "\n",
    "5. **{number for number in numbers if number in [i ** 2 for i in range(1, int(max(numbers) ** 0.5 + 1))]}**\n",
    "    - Внутренний генератор: **[i ** 2 for i in range(1, int(max(numbers) ** 0.5 + 1))]**: создаёт список квадратов чисел от 1 до корня из максимального числа в `numbers`.\n",
    "    - Внешний генератор: **for number in numbers**: проходит по всем элементам в `numbers`.\n",
    "    - **if number in [i ** 2 for i in range(1, ...)]**: проверяет, является ли число квадратом какого-либо целого числа.\n",
    "    - Результат: множество чисел из `numbers`, которые являются квадратами целых чисел.\n",
    "\n",
    "6. **{letter: text.lower().count(letter) for letter in set(text.lower()) if letter.isalpha()}**\n",
    "    - **set(text.lower())**: создаёт множество уникальных символов в тексте `text`, приведённого к нижнему регистру.\n",
    "    - **letter.isalpha()**: проверяет, является ли символ буквой.\n",
    "    - **text.lower().count(letter)**: подсчитывает количество вхождений каждой буквы в тексте.\n",
    "    - Результат: словарь, где ключами являются буквы, а значениями - количество их вхождений в тексте.\n",
    "\n",
    "7. **{number: [i for i in range(1, number + 1) if not number % i] for number in numbers}**\n",
    "    - Внешний генератор: **for number in numbers**: проходит по всем элементам в `numbers`.\n",
    "    - Внутренний генератор: **for i in range(1, number + 1)**: создаёт список делителей числа `number`.\n",
    "    - **if not number % i**: проверяет, является ли `i` делителем `number`.\n",
    "    - Результат: словарь, где ключами являются числа из `numbers`, а значениями - списки их делителей.\n",
    "\n",
    "8. **''.join(word[0] for word in string.split()).upper()**\n",
    "    - **string.split()**: разбивает строку `string` на список слов.\n",
    "    - **word[0] for word in string.split()**: берёт первую букву каждого слова.\n",
    "    - **''.join(...)**: объединяет эти буквы в строку.\n",
    "    - **.upper()**: переводит полученную строку в верхний регистр.\n",
    "    - Результат: строка, состоящая из первых букв каждого слова в верхнем регистре.\n",
    "\n",
    "9. **' - '.join(str(i) for i in sorted(set(numbers)))**\n",
    "    - **set(numbers)**: создаёт множество уникальных чисел из `numbers`.\n",
    "    - **sorted(set(numbers))**: сортирует эти числа.\n",
    "    - **str(i) for i in ...**: преобразует каждое число в строку.\n",
    "    - **' - '.join(...)**: объединяет строки чисел, разделяя их символом \" - \".\n",
    "    - Результат: строка уникальных чисел из `numbers`, отсортированных и разделённых \" - \".\n",
    "\n",
    "10. **''.join([symbol * count for symbol, count in rle])**\n",
    "    - **[symbol * count for symbol, count in rle]**: для каждого кортежа `(symbol, count)` в `rle` создаёт строку, состоящую из `count` символов `symbol`.\n",
    "    - **''.join(...)**: объединяет эти строки в одну.\n",
    "    - Результат: декодированная строка из RLE (Run-Length Encoding) представления.\n",
    "\n",
    "Каждое из этих выражений использует генераторы для создания структур данных (списков, множеств, словарей, строк) на основе заданных условий и операций."
   ]
  }
 ],
 "metadata": {
  "kernelspec": {
   "display_name": "Python 3",
   "language": "python",
   "name": "python3"
  },
  "language_info": {
   "codemirror_mode": {
    "name": "ipython",
    "version": 3
   },
   "file_extension": ".py",
   "mimetype": "text/x-python",
   "name": "python",
   "nbconvert_exporter": "python",
   "pygments_lexer": "ipython3",
   "version": "3.11.7"
  }
 },
 "nbformat": 4,
 "nbformat_minor": 2
}
