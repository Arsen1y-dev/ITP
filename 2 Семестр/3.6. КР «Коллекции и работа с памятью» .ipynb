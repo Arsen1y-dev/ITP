{
 "cells": [
  {
   "cell_type": "markdown",
   "metadata": {},
   "source": [
    "3.6. КР «Коллекции и работа с памятью»"
   ]
  },
  {
   "cell_type": "markdown",
   "metadata": {},
   "source": [
    "Нарезка строк"
   ]
  },
  {
   "cell_type": "code",
   "execution_count": 6,
   "metadata": {},
   "outputs": [
    {
     "name": "stdout",
     "output_type": "stream",
     "text": [
      "Python Handbook\n"
     ]
    }
   ],
   "source": [
    "n = int(input())\n",
    "for _ in range(n):\n",
    "    a, s, b = input().split(\"%\")\n",
    "    s = s[:int(a) - len(s) + 1]\n",
    "    s = [s[i] for i in range(len(s) - 1, -1, -3)][:int(b)]\n",
    "    print(\"\".join(s[::-1]))\n"
   ]
  },
  {
   "cell_type": "markdown",
   "metadata": {},
   "source": [
    "Каталогизация слов"
   ]
  },
  {
   "cell_type": "code",
   "execution_count": 3,
   "metadata": {},
   "outputs": [
    {
     "name": "stdout",
     "output_type": "stream",
     "text": [
      "8: ПОМОГИТЕ; ПОЖАРНЫЕ; ПЛАМЕНЕМ\n",
      "7: ЛИСИЧКИ; ВЫБЕЖАЛ\n",
      "6: СПИЧКИ; СИНЕМУ; ЗАЖГЛИ; БЕГИТЕ\n",
      "5: СИНЕЕ; ПОШЛИ; ГОРИТ; ВЗЯЛИ\n",
      "4: МОРЯ; МОРЮ; МОРЕ\n",
      "3: КИТ\n",
      "2: ЭЙ; ИЗ\n",
      "1: К; А\n"
     ]
    }
   ],
   "source": [
    "def create_catalog(text):\n",
    "    catalog = {}\n",
    "    words = text.split()\n",
    "    for word in words:\n",
    "        length = len(word)\n",
    "        if length not in catalog:\n",
    "            catalog[length] = set()\n",
    "        catalog[length].add(word.upper())\n",
    "    return catalog\n",
    "\n",
    "def print_catalog(catalog):\n",
    "    for length, words in sorted(catalog.items(), reverse=True):\n",
    "        sorted_words = sorted(words, reverse=True)\n",
    "        print(f\"{length}: {'; '.join(sorted_words)}\")\n",
    "\n",
    "text = \"\"\n",
    "while True:\n",
    "    line = input()\n",
    "    if not line:\n",
    "        break\n",
    "    text += line + \" \"\n",
    "\n",
    "catalog = create_catalog(text)\n",
    "print_catalog(catalog)"
   ]
  },
  {
   "cell_type": "markdown",
   "metadata": {},
   "source": [
    "Перераспределение по последней цифре"
   ]
  },
  {
   "cell_type": "code",
   "execution_count": null,
   "metadata": {},
   "outputs": [],
   "source": [
    "[number for number in ints if int(str(number)[-1]) > 3] + \\\n",
    "    [number for number in ints if int(str(number)[-1]) <= 3]"
   ]
  },
  {
   "cell_type": "markdown",
   "metadata": {},
   "source": [
    "Генератор слов"
   ]
  },
  {
   "cell_type": "code",
   "execution_count": 10,
   "metadata": {},
   "outputs": [
    {
     "name": "stdout",
     "output_type": "stream",
     "text": [
      "ace\n",
      "acf\n",
      "ade\n",
      "adf\n",
      "bce\n",
      "bcf\n",
      "bde\n",
      "bdf\n"
     ]
    }
   ],
   "source": [
    "from itertools import product\n",
    "\n",
    "n = int(input())\n",
    "letters = []\n",
    "for _ in range(n):\n",
    "    letters.append(sorted(set(input().split(\"-\"))))\n",
    "\n",
    "for word in product(*letters, repeat=1):\n",
    "    print(\"\".join(letter for letter in word))"
   ]
  },
  {
   "cell_type": "markdown",
   "metadata": {},
   "source": [
    "Цифровая статистика"
   ]
  },
  {
   "cell_type": "code",
   "execution_count": null,
   "metadata": {},
   "outputs": [],
   "source": [
    "import json\n",
    "import sys\n",
    "from collections import defaultdict\n",
    "\n",
    "res_dict = defaultdict(set)\n",
    "\n",
    "for line in sys.stdin:\n",
    "    number = line.strip()\n",
    "    for digit in number:\n",
    "        res_dict[digit].add(number)\n",
    "\n",
    "with open(\"result.json\", \"w\") as result_file:\n",
    "    json.dump({str(key): sorted(numbers) for key, numbers in sorted(res_dict.items(), key=lambda x: x[0])}, result_file)\n"
   ]
  }
 ],
 "metadata": {
  "kernelspec": {
   "display_name": "Python 3",
   "language": "python",
   "name": "python3"
  },
  "language_info": {
   "codemirror_mode": {
    "name": "ipython",
    "version": 3
   },
   "file_extension": ".py",
   "mimetype": "text/x-python",
   "name": "python",
   "nbconvert_exporter": "python",
   "pygments_lexer": "ipython3",
   "version": "3.11.7"
  }
 },
 "nbformat": 4,
 "nbformat_minor": 2
}
