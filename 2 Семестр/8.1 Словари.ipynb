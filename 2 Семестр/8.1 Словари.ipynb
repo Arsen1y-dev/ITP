{
 "cells": [
  {
   "cell_type": "markdown",
   "metadata": {},
   "source": [
    "8.1 Словари"
   ]
  },
  {
   "cell_type": "markdown",
   "metadata": {},
   "source": [
    "Римские цифры"
   ]
  },
  {
   "cell_type": "code",
   "execution_count": 1,
   "metadata": {},
   "outputs": [
    {
     "name": "stdout",
     "output_type": "stream",
     "text": [
      "1\n"
     ]
    }
   ],
   "source": [
    "letter = input().strip()\n",
    "\n",
    "roman_numerals = {'I': 1, 'V': 5, 'X': 10, 'L': 50, 'C': 100, 'D': 500, 'M': 1000}\n",
    "if letter in roman_numerals:\n",
    "    print(roman_numerals[letter])\n",
    "else:\n",
    "    print(0)"
   ]
  },
  {
   "cell_type": "markdown",
   "metadata": {},
   "source": [
    "Выбор. Задача 4"
   ]
  },
  {
   "cell_type": "code",
   "execution_count": 1,
   "metadata": {},
   "outputs": [
    {
     "name": "stdout",
     "output_type": "stream",
     "text": [
      "Queen\n"
     ]
    }
   ],
   "source": [
    "k = int(input().strip())\n",
    "\n",
    "cards = {14 : 'Ace', 13 : 'King', 12 : 'Queen', 11 : 'Jack', 10: 'ten', 9: 'nine', 8: 'eight', 7: 'seven', 6: 'six' }\n",
    "\n",
    "if k in cards:\n",
    "    print(cards[k]) "
   ]
  },
  {
   "cell_type": "markdown",
   "metadata": {},
   "source": [
    "Выбор. Задача 5"
   ]
  },
  {
   "cell_type": "code",
   "execution_count": 4,
   "metadata": {},
   "outputs": [
    {
     "name": "stdout",
     "output_type": "stream",
     "text": [
      "the Queen of clubs\n"
     ]
    }
   ],
   "source": [
    "m, k = map(int, input().strip().split())\n",
    "\n",
    "suits = {1: 'spades', 2: 'clubs', 3: 'diamonds', 4: 'hearts'}\n",
    "cards_values = {14 : 'ace', 13 : 'king', 12 : 'queen', 11 : 'jack', 10: 'ten', 9: 'nine', 8: 'eight', 7: 'seven', 6: 'six' }\n",
    "\n",
    "if m in suits and k in cards_values:\n",
    "    print(f\"the {cards_values[k]} of {suits[m]}\")"
   ]
  },
  {
   "cell_type": "markdown",
   "metadata": {},
   "source": [
    "ЕГЭ. Задача 16"
   ]
  },
  {
   "cell_type": "code",
   "execution_count": 48,
   "metadata": {},
   "outputs": [
    {
     "name": "stdout",
     "output_type": "stream",
     "text": [
      "i 3\n"
     ]
    }
   ],
   "source": [
    "def count_letters(text):\n",
    "    letter_counts = {} \n",
    "    \n",
    "    for char in text:\n",
    "        if char != ' ':\n",
    "            char = char.lower()\n",
    "            if 'a' <= char <= 'z':\n",
    "                letter_counts[char] = letter_counts.get(char, 0) + 1       \n",
    "    return letter_counts\n",
    "\n",
    "with open(\"input.txt\", \"r\") as file:\n",
    "    text = file.read()\n",
    "\n",
    "letter_counts = count_letters(text) \n",
    "\n",
    "most_common_letter = min(sorted(letter_counts.items()), key=lambda x: (-x[1], (x[0])))\n",
    "\n",
    "print(most_common_letter[0], most_common_letter[1])"
   ]
  },
  {
   "cell_type": "markdown",
   "metadata": {},
   "source": [
    "Две строки 3"
   ]
  },
  {
   "cell_type": "code",
   "execution_count": 49,
   "metadata": {},
   "outputs": [
    {
     "name": "stdout",
     "output_type": "stream",
     "text": [
      "True\n"
     ]
    }
   ],
   "source": [
    "s1 = input().strip()\n",
    "s2 = input().strip()\n",
    "\n",
    "count_s1 = {}\n",
    "count_s2 = {}\n",
    "\n",
    "for char in s1:\n",
    "    count_s1[char] = count_s1.get(char, 0) + 1\n",
    "\n",
    "for char in s2:\n",
    "    count_s2[char] = count_s2.get(char, 0) + 1\n",
    "\n",
    "for char, count in count_s2.items():\n",
    "    if char not in count_s1 or count_s1[char] < count:\n",
    "        print(\"False\")\n",
    "        break\n",
    "else:\n",
    "    print(\"True\")\n"
   ]
  },
  {
   "cell_type": "markdown",
   "metadata": {},
   "source": [
    "Расшифровка оценок"
   ]
  },
  {
   "cell_type": "code",
   "execution_count": 50,
   "metadata": {},
   "outputs": [
    {
     "name": "stdout",
     "output_type": "stream",
     "text": [
      "5\n"
     ]
    }
   ],
   "source": [
    "encrypted_scores = input().strip()\n",
    "\n",
    "score_counts = {'2': 0, '3': 0, '4': 0, '5': 0}\n",
    "\n",
    "current_score = \"\"\n",
    "\n",
    "for digit in encrypted_scores:\n",
    "    current_score += digit\n",
    "    \n",
    "    if current_score == '0':\n",
    "        current_score = \"\"\n",
    "    elif current_score == '100':\n",
    "        score_counts['2'] += 1\n",
    "        current_score = \"\"\n",
    "    elif current_score == '110':\n",
    "        score_counts['3'] += 1\n",
    "        current_score = \"\"\n",
    "    elif current_score == '101':\n",
    "        score_counts['4'] += 1\n",
    "        current_score = \"\"\n",
    "    elif current_score == '11':\n",
    "        score_counts['5'] += 1\n",
    "        current_score = \"\"\n",
    "\n",
    "print(max(score_counts, key=score_counts.get))\n"
   ]
  }
 ],
 "metadata": {
  "kernelspec": {
   "display_name": "Python 3",
   "language": "python",
   "name": "python3"
  },
  "language_info": {
   "codemirror_mode": {
    "name": "ipython",
    "version": 3
   },
   "file_extension": ".py",
   "mimetype": "text/x-python",
   "name": "python",
   "nbconvert_exporter": "python",
   "pygments_lexer": "ipython3",
   "version": "3.11.7"
  }
 },
 "nbformat": 4,
 "nbformat_minor": 2
}
