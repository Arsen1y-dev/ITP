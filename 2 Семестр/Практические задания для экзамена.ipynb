{
 "cells": [
  {
   "cell_type": "markdown",
   "metadata": {},
   "source": [
    "Практические задания для экзамена"
   ]
  },
  {
   "cell_type": "markdown",
   "metadata": {},
   "source": [
    "1. Даны две строки. Найти буквы, которые встречаются только в одной из двух строк."
   ]
  },
  {
   "cell_type": "code",
   "execution_count": 1,
   "metadata": {},
   "outputs": [
    {
     "name": "stdout",
     "output_type": "stream",
     "text": [
      "12\n"
     ]
    }
   ],
   "source": [
    "s1 = \"строка1\"\n",
    "s2 = \"строка2\"\n",
    "set1 = set(s1)  # Преобразуем первую строку в множество\n",
    "set2 = set(s2)  # Преобразуем вторую строку в множество\n",
    "unique_letters = ''.join(set1 ^ set2)  # Используем симметричную разность для нахождения уникальных букв\n",
    "print(unique_letters)"
   ]
  },
  {
   "cell_type": "markdown",
   "metadata": {},
   "source": [
    "2. Даны две строки Найти цифры, которые есть в первой, но нет во второй строке."
   ]
  },
  {
   "cell_type": "code",
   "execution_count": 4,
   "metadata": {},
   "outputs": [
    {
     "name": "stdout",
     "output_type": "stream",
     "text": [
      "1\n"
     ]
    }
   ],
   "source": [
    "s1 = \"abc123\"\n",
    "s2 = \"def45623\"\n",
    "digits1 = set(filter(str.isdigit, s1))  # Найдем цифры в первой строке\n",
    "digits2 = set(filter(str.isdigit, s2))  # Найдем цифры во второй строке\n",
    "unique_digits_in_first = ''.join(digits1 - digits2)  # Используем разность множеств для нахождения цифр только в первой строке\n",
    "print(unique_digits_in_first)"
   ]
  },
  {
   "cell_type": "markdown",
   "metadata": {},
   "source": [
    "3. Дан набор чисел. Найти цифры, которые не встречаются ни в одном из этих чисел."
   ]
  },
  {
   "cell_type": "code",
   "execution_count": 6,
   "metadata": {},
   "outputs": [
    {
     "name": "stdout",
     "output_type": "stream",
     "text": [
      "0\n"
     ]
    }
   ],
   "source": [
    "numbers = [123, 456, 789]\n",
    "all_digits = set('0123456789')  # Все возможные цифры\n",
    "present_digits = set(''.join(map(str, numbers)))  # Все цифры, которые встречаются в числах\n",
    "missing_digits = ''.join(sorted(all_digits - present_digits))  # Используем разность множеств для нахождения отсутствующих цифр\n",
    "print(missing_digits)"
   ]
  },
  {
   "cell_type": "markdown",
   "metadata": {},
   "source": [
    "4. Найти максимальное по длине слово в предложении. Если таких слов несколько, то вывести первое по алфавиту."
   ]
  },
  {
   "cell_type": "code",
   "execution_count": 7,
   "metadata": {},
   "outputs": [
    {
     "name": "stdout",
     "output_type": "stream",
     "text": [
      "максимальное\n"
     ]
    }
   ],
   "source": [
    "sentence = \"Найти максимальное по длине слово в предложении\"\n",
    "words = sentence.split()  # Разделяем предложение на слова\n",
    "max_length = max(len(word) for word in words)  # Находим максимальную длину слова\n",
    "longest_words = [word for word in words if len(word) == max_length]  # Список слов с максимальной длиной\n",
    "longest_word = min(longest_words)  # Возвращаем первое по алфавиту слово\n",
    "print(longest_word)"
   ]
  },
  {
   "cell_type": "markdown",
   "metadata": {},
   "source": [
    "5. Найти минимальное по модулю число в списке, если таких несколько, то наименьшее из них."
   ]
  },
  {
   "cell_type": "code",
   "execution_count": 10,
   "metadata": {},
   "outputs": [
    {
     "name": "stdout",
     "output_type": "stream",
     "text": [
      "-1\n"
     ]
    }
   ],
   "source": [
    "numbers = [3, -1, -4, 2, -2, 29]\n",
    "min_by_abs = min(numbers, key=lambda x: (abs(x), x))  # Сортируем по модулю и затем по значению\n",
    "print(min_by_abs)"
   ]
  },
  {
   "cell_type": "markdown",
   "metadata": {},
   "source": [
    "6. Найти первое по алфавиту слово без учета регистра."
   ]
  },
  {
   "cell_type": "code",
   "execution_count": 11,
   "metadata": {},
   "outputs": [
    {
     "name": "stdout",
     "output_type": "stream",
     "text": [
      "apple\n"
     ]
    }
   ],
   "source": [
    "words = [\"apple\", \"Banana\", \"cherry\", \"date\"]\n",
    "first_alphabetically = min(words, key=str.lower)  # Используем str.lower для сравнения без учета регистра\n",
    "print(first_alphabetically)"
   ]
  },
  {
   "cell_type": "markdown",
   "metadata": {},
   "source": [
    "7. Найти максимальный элемент среди кратных трем элементов списка без использования цикла в явном виде."
   ]
  },
  {
   "cell_type": "code",
   "execution_count": 12,
   "metadata": {},
   "outputs": [
    {
     "name": "stdout",
     "output_type": "stream",
     "text": [
      "15\n"
     ]
    }
   ],
   "source": [
    "numbers = [4, 6, 9, 12, 15, 8]\n",
    "max_multiple_of_three = max(filter(lambda x: x % 3 == 0, numbers), default=None)  # Используем filter для нахождения кратных трем и max для поиска максимального\n",
    "print(max_multiple_of_three)"
   ]
  },
  {
   "cell_type": "markdown",
   "metadata": {},
   "source": [
    "8. Найти минимальное по длине слово, начинающееся  с буквы А  без использования цикла в явном виде."
   ]
  },
  {
   "cell_type": "code",
   "execution_count": 13,
   "metadata": {},
   "outputs": [
    {
     "name": "stdout",
     "output_type": "stream",
     "text": [
      "apple\n"
     ]
    }
   ],
   "source": [
    "words = [\"apple\", \"apricot\", \"banana\", \"avocado\", \"almond\"]\n",
    "min_length_word_starting_with_a = min((word for word in words if word.lower().startswith('a')), key=len, default=None)  # Используем генераторное выражение для фильтрации слов и min для нахождения минимального по длине\n",
    "print(min_length_word_starting_with_a)"
   ]
  },
  {
   "cell_type": "markdown",
   "metadata": {},
   "source": [
    "9. Дана матрица n*n. Транспонировать ее."
   ]
  },
  {
   "cell_type": "code",
   "execution_count": 14,
   "metadata": {},
   "outputs": [
    {
     "name": "stdout",
     "output_type": "stream",
     "text": [
      "[[1, 4, 7], [2, 5, 8], [3, 6, 9]]\n"
     ]
    }
   ],
   "source": [
    "matrix = [\n",
    "    [1, 2, 3],\n",
    "    [4, 5, 6],\n",
    "    [7, 8, 9]\n",
    "]\n",
    "transposed_matrix = list(map(list, zip(*matrix)))  # Используем zip для транспонирования и map для преобразования в списки\n",
    "print(transposed_matrix)"
   ]
  },
  {
   "cell_type": "markdown",
   "metadata": {},
   "source": [
    "10. Дана матрица n*n. Найти суммы по строкам."
   ]
  },
  {
   "cell_type": "code",
   "execution_count": 15,
   "metadata": {},
   "outputs": [
    {
     "name": "stdout",
     "output_type": "stream",
     "text": [
      "[6, 15, 24]\n"
     ]
    }
   ],
   "source": [
    "matrix = [\n",
    "    [1, 2, 3],\n",
    "    [4, 5, 6],\n",
    "    [7, 8, 9]\n",
    "]\n",
    "row_sums = [sum(row) for row in matrix]  # Используем списковое включение для нахождения суммы каждой строки\n",
    "print(row_sums)"
   ]
  },
  {
   "cell_type": "markdown",
   "metadata": {},
   "source": [
    "11. Дана матрица n*n. Найти минимумы по столбцам."
   ]
  },
  {
   "cell_type": "code",
   "execution_count": 16,
   "metadata": {},
   "outputs": [
    {
     "name": "stdout",
     "output_type": "stream",
     "text": [
      "[1, 2, 3]\n"
     ]
    }
   ],
   "source": [
    "matrix = [\n",
    "    [1, 2, 3],\n",
    "    [4, 5, 6],\n",
    "    [7, 8, 9]\n",
    "]\n",
    "column_minima = [min(column) for column in zip(*matrix)]  # Используем zip для транспонирования и min для нахождения минимума каждого столбца\n",
    "print(column_minima)"
   ]
  },
  {
   "cell_type": "markdown",
   "metadata": {},
   "source": [
    "12. Дана матрица n*n. Найти номера столбцов, в которых есть заданный элемент."
   ]
  },
  {
   "cell_type": "code",
   "execution_count": 1,
   "metadata": {},
   "outputs": [
    {
     "name": "stdout",
     "output_type": "stream",
     "text": [
      "[1]\n"
     ]
    }
   ],
   "source": [
    "matrix = [\n",
    "    [1, 2, 3],\n",
    "    [4, 5, 6],\n",
    "    [7, 8, 9]\n",
    "]\n",
    "element = 5\n",
    "columns_with_element = [i for i, column in enumerate(zip(*matrix)) if element in column]  # Используем enumerate и zip для нахождения столбцов с заданным элементом\n",
    "print(columns_with_element)"
   ]
  },
  {
   "cell_type": "markdown",
   "metadata": {},
   "source": [
    "13. Дана матрица n*n. Есть ли хотя бы один столбец, в котором все элементы четны. "
   ]
  },
  {
   "cell_type": "code",
   "execution_count": 18,
   "metadata": {},
   "outputs": [
    {
     "name": "stdout",
     "output_type": "stream",
     "text": [
      "True\n"
     ]
    }
   ],
   "source": [
    "matrix = [\n",
    "    [2, 4, 6],\n",
    "    [4, 6, 8],\n",
    "    [6, 8, 10]\n",
    "]\n",
    "has_all_even_column = any(all(element % 2 == 0 for element in column) for column in zip(*matrix))  # Используем all и any для проверки столбцов\n",
    "print(has_all_even_column)"
   ]
  },
  {
   "cell_type": "markdown",
   "metadata": {},
   "source": [
    "14. Дана матрица n*n. Есть ли в таблице хотя бы один элемент, заканчивающийся на 7."
   ]
  },
  {
   "cell_type": "code",
   "execution_count": 19,
   "metadata": {},
   "outputs": [
    {
     "name": "stdout",
     "output_type": "stream",
     "text": [
      "True\n"
     ]
    }
   ],
   "source": [
    "matrix = [\n",
    "    [12, 17, 23],\n",
    "    [45, 57, 67],\n",
    "    [78, 89, 97]\n",
    "]\n",
    "has_element_ending_with_7 = any(str(element).endswith('7') for row in matrix for element in row)  # Используем вложенные генераторные выражения для проверки элементов\n",
    "print(has_element_ending_with_7)"
   ]
  },
  {
   "cell_type": "markdown",
   "metadata": {},
   "source": [
    "15. Даны имена и класс ученика школы. Соберите словарь с ключами - классов, а значением - списком учеников."
   ]
  },
  {
   "cell_type": "code",
   "execution_count": 20,
   "metadata": {},
   "outputs": [
    {
     "name": "stdout",
     "output_type": "stream",
     "text": [
      "{'5A': ['Alice', 'Bob'], '5B': ['Charlie', 'David'], '5C': ['Eve']}\n"
     ]
    }
   ],
   "source": [
    "students = [(\"Alice\", \"5A\"), (\"Bob\", \"5A\"), (\"Charlie\", \"5B\"), (\"David\", \"5B\"), (\"Eve\", \"5C\")]\n",
    "students_by_class = {}\n",
    "for name, cls in students:\n",
    "    students_by_class.setdefault(cls, []).append(name)  # Используем setdefault для добавления учеников в соответствующие классы\n",
    "print(students_by_class)"
   ]
  },
  {
   "cell_type": "markdown",
   "metadata": {},
   "source": [
    "16. Дан города и страны, в которых эти города находятся. Соберите словарь где страна - ключ, а список городов - словарь."
   ]
  },
  {
   "cell_type": "code",
   "execution_count": 21,
   "metadata": {},
   "outputs": [
    {
     "name": "stdout",
     "output_type": "stream",
     "text": [
      "{'Russia': ['Moscow', 'Saint Petersburg'], 'USA': ['New York', 'Los Angeles'], 'UK': ['London']}\n"
     ]
    }
   ],
   "source": [
    "pairs = [(\"Moscow\", \"Russia\"), (\"Saint Petersburg\", \"Russia\"), (\"New York\", \"USA\"), (\"Los Angeles\", \"USA\"), (\"London\", \"UK\")]\n",
    "cities_by_country = {}\n",
    "for city, country in pairs:\n",
    "    cities_by_country.setdefault(country, []).append(city)  # Используем setdefault для добавления городов в соответствующие страны\n",
    "print(cities_by_country)"
   ]
  },
  {
   "cell_type": "markdown",
   "metadata": {},
   "source": [
    "17. Даны предложения, состоящие из слов, разделенных пробелами. Выведите эти предложения в порядке увеличения количества слов, а при равенстве по количеству непробельных символов."
   ]
  },
  {
   "cell_type": "code",
   "execution_count": 22,
   "metadata": {},
   "outputs": [
    {
     "name": "stdout",
     "output_type": "stream",
     "text": [
      "['Another test sentence.', 'This is a test.', 'A much longer sentence for testing purposes.']\n"
     ]
    }
   ],
   "source": [
    "sentences = [\"This is a test.\", \"Another test sentence.\", \"A much longer sentence for testing purposes.\"]\n",
    "sorted_sentences = sorted(sentences, key=lambda s: (len(s.split()), len(s.replace(' ', ''))))  # Используем sorted и лямбда-выражение для сортировки\n",
    "print(sorted_sentences)"
   ]
  },
  {
   "cell_type": "markdown",
   "metadata": {},
   "source": [
    "18. Дан список чисел. Отсортируйте их сначала по длине числа (без учета знака), а при равенстве - по модулю, при равенстве модулей оставить исходный порядок."
   ]
  },
  {
   "cell_type": "code",
   "execution_count": 23,
   "metadata": {},
   "outputs": [
    {
     "name": "stdout",
     "output_type": "stream",
     "text": [
      "[5, 12, -34, -90, 678, 1234]\n"
     ]
    }
   ],
   "source": [
    "numbers = [12, -34, 5, 678, -90, 1234]\n",
    "sorted_numbers = sorted(numbers, key=lambda x: (len(str(abs(x))), abs(x)))  # Используем sorted и лямбда-выражение для сортировки\n",
    "print(sorted_numbers)"
   ]
  },
  {
   "cell_type": "markdown",
   "metadata": {},
   "source": [
    "19. Написать функцию, которая возвращает произведение переданных аргументов."
   ]
  },
  {
   "cell_type": "code",
   "execution_count": 24,
   "metadata": {},
   "outputs": [],
   "source": [
    "def multiply(*args):\n",
    "    result = 1\n",
    "    for arg in args:\n",
    "        result *= arg  # Перемножаем все аргументы\n",
    "    return result"
   ]
  },
  {
   "cell_type": "markdown",
   "metadata": {},
   "source": [
    "20. Напишите функцию, которая принимает предложение, а возвращает список слов. Если функции передан именованный аргумент lowercase=True, вернуть все слова в нижнем регистре."
   ]
  },
  {
   "cell_type": "code",
   "execution_count": 2,
   "metadata": {},
   "outputs": [],
   "source": [
    "def split_sentence(sentence, lowercase=True):\n",
    "    words = sentence.split()  # Разделяем предложение на слова\n",
    "    if lowercase:\n",
    "        words = [word.lower() for word in words]  # Преобразуем слова в нижний регистр, если указан флаг lowercase\n",
    "    return words"
   ]
  },
  {
   "cell_type": "markdown",
   "metadata": {},
   "source": [
    "set в Python — это неупорядоченная коллекция уникальных элементов. Множества используются для выполнения математических операций, таких как объединение, пересечение, разность и симметрическая разность.\n",
    "\n",
    "1.\tСоздание множества:\n",
    "s = set([1, 2, 3, 4])\n",
    "# или с использованием фигурных скобок\n",
    "s = {1, 2, 3, 4}\n",
    "\n",
    "2.\tДобавление элементов:\n",
    "s.add(5)\n",
    "print(s)  # {1, 2, 3, 4, 5}\n",
    "\n",
    "3.\tУдаление элементов:\n",
    "s.remove(3)\n",
    "print(s)  # {1, 2, 4, 5}\n",
    "# Без ошибки, если элемент отсутствует\n",
    "s.discard(10)\n",
    "\n",
    "4.\tОбъединение (union):\n",
    "s1 = {1, 2, 3}\n",
    "s2 = {3, 4, 5}\n",
    "union_set = s1 | s2  # {1, 2, 3, 4, 5}\n",
    "\n",
    "5.\tПересечение (intersection):\n",
    "intersection_set = s1 & s2  # {3}\n",
    "\n",
    "6.\tРазность (difference):\n",
    "difference_set = s1 - s2  # {1, 2}\n",
    "\n",
    "7.\tСимметрическая разность (symmetric difference):\n",
    "symmetric_difference_set = s1 ^ s2  # {1, 2, 4, 5}\n",
    "\n",
    "8.\tПроверка на наличие элемента:\n",
    "print(2 in s)  # True\n",
    "print(10 in s)  # False\n",
    "\n",
    "Примеры использования множества в задачах из предыдущих кодов:\n",
    "\n",
    "1.\tНахождение уникальных букв в двух строках:\n",
    "s1 = \"абвгд\"\n",
    "s2 = \"гдеёж\"\n",
    "set1 = set(s1)\n",
    "set2 = set(s2)\n",
    "unique_letters = ''.join(set1 ^ set2)  # Симметрическая разность\n",
    "print(unique_letters)  # Output: абвёж\n",
    "\n",
    "2.\tНахождение цифр, которые есть в первой строке, но нет во второй:\n",
    "s1 = \"123456\"\n",
    "s2 = \"456789\"\n",
    "digits1 = set(filter(str.isdigit, s1))\n",
    "digits2 = set(filter(str.isdigit, s2))\n",
    "unique_digits_in_first = ''.join(digits1 - digits2)  # Разность множеств\n",
    "print(unique_digits_in_first)  # Output: 123\n",
    "\n",
    "3.\tНахождение цифр, которые не встречаются ни в одном из данных чисел:\n",
    "numbers = [123, 456, 789]\n",
    "all_digits = set('0123456789')\n",
    "present_digits = set(''.join(map(str, numbers)))\n",
    "missing_digits = ''.join(sorted(all_digits - present_digits))  # Разность множеств\n",
    "print(missing_digits)  # Output: 0"
   ]
  }
 ],
 "metadata": {
  "kernelspec": {
   "display_name": "Python 3",
   "language": "python",
   "name": "python3"
  },
  "language_info": {
   "codemirror_mode": {
    "name": "ipython",
    "version": 3
   },
   "file_extension": ".py",
   "mimetype": "text/x-python",
   "name": "python",
   "nbconvert_exporter": "python",
   "pygments_lexer": "ipython3",
   "version": "3.11.7"
  }
 },
 "nbformat": 4,
 "nbformat_minor": 2
}
