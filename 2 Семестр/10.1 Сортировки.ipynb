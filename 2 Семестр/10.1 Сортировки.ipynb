{
 "cells": [
  {
   "cell_type": "markdown",
   "metadata": {},
   "source": [
    "10.1 Сортировки"
   ]
  },
  {
   "cell_type": "markdown",
   "metadata": {},
   "source": [
    "Сортировки. Записи. Задача 2"
   ]
  },
  {
   "cell_type": "code",
   "execution_count": 1,
   "metadata": {},
   "outputs": [],
   "source": [
    "def read_students(filename):\n",
    "  \"\"\"Читает данные о студентах из файла и возвращает список словарей.\"\"\"\n",
    "  with open(filename, 'r') as f:\n",
    "    n = int(f.readline())\n",
    "    students = []\n",
    "    for _ in range(n):\n",
    "      surname, name, patronymic, year, *marks = f.readline().split()\n",
    "      students.append({\n",
    "          'surname': surname,\n",
    "          'name': name,\n",
    "          'patronymic': patronymic,\n",
    "          'year': int(year),\n",
    "          'marks': [int(mark) for mark in marks]\n",
    "      })\n",
    "  return students\n",
    "\n",
    "def calculate_average(student):\n",
    "  \"\"\"Вычисляет среднюю оценку студента.\"\"\"\n",
    "  return sum(student['marks']) / len(student['marks'])\n",
    "\n",
    "def sort_students(students):\n",
    "  \"\"\"Сортирует список студентов по возрастанию средней оценки.\"\"\"\n",
    "  return sorted(students, key=calculate_average)\n",
    "\n",
    "def write_students(students, filename):\n",
    "  \"\"\"Записывает информацию о студентах в файл.\"\"\"\n",
    "  with open(filename, 'w') as f:\n",
    "    for student in students:\n",
    "      f.write(f\"{student['surname']} {student['name']} {student['patronymic']} {student['year']} {' '.join(str(mark) for mark in student['marks'])}\\n\")\n",
    "\n",
    "if __name__ == \"__main__\":\n",
    "  input_filename = \"input.txt\"\n",
    "  output_filename = \"output.txt\"\n",
    "\n",
    "  students = read_students(input_filename)\n",
    "  sorted_students = sort_students(students)\n",
    "  write_students(sorted_students, output_filename)"
   ]
  },
  {
   "cell_type": "markdown",
   "metadata": {},
   "source": [
    "Сортировки. Записи. Задача 1"
   ]
  },
  {
   "cell_type": "code",
   "execution_count": 3,
   "metadata": {},
   "outputs": [],
   "source": [
    "with open('input.txt', 'r') as file:\n",
    "    lines = file.readlines()\n",
    "\n",
    "# Количество студентов\n",
    "n = int(lines[0].strip())\n",
    "\n",
    "# Обработка записей студентов\n",
    "students = []\n",
    "for i in range(1, n + 1):\n",
    "    parts = lines[i].strip().split()\n",
    "    surname = parts[0]\n",
    "    name = parts[1]\n",
    "    patronymic = parts[2]\n",
    "    birth_year = int(parts[3])\n",
    "    grades = list(map(int, parts[4:]))\n",
    "    average_grade = sum(grades) / len(grades)\n",
    "    students.append((average_grade, i, lines[i].strip()))\n",
    "\n",
    "# Сортировка записей по средней оценке (по убыванию) и индексу (для сохранения исходного порядка при одинаковой средней оценке)\n",
    "sorted_students = sorted(students, key=lambda x: (-x[0], x[1]))\n",
    "\n",
    "with open('output.txt', 'w') as file:\n",
    "    for student in sorted_students:\n",
    "        file.write(student[2] + '\\n')"
   ]
  },
  {
   "cell_type": "markdown",
   "metadata": {},
   "source": [
    "Сортировки. Записи. Задача 5"
   ]
  },
  {
   "cell_type": "code",
   "execution_count": null,
   "metadata": {},
   "outputs": [],
   "source": [
    "def read_students(filename):\n",
    "  \"\"\"Читает данные о студентах из файла и возвращает список словарей.\"\"\"\n",
    "  with open(filename, 'r') as f:\n",
    "    n = int(f.readline())\n",
    "    students = []\n",
    "    for _ in range(n):\n",
    "      surname, name, patronymic, year, *marks = f.readline().split()\n",
    "      students.append({\n",
    "          'surname': surname,\n",
    "          'name': name,\n",
    "          'patronymic': patronymic,\n",
    "          'year': int(year),\n",
    "          'marks': [int(mark) for mark in marks]\n",
    "      })\n",
    "  return students\n",
    "\n",
    "def sort_students(students):\n",
    "  \"\"\"Сортирует список студентов по фамилии в алфавитном порядке, затем по убыванию года рождения.\"\"\"\n",
    "  return sorted(students, key=lambda student: (student['surname'], -student['year']))\n",
    "\n",
    "def write_students(students, filename):\n",
    "  \"\"\"Записывает информацию о студентах в файл.\"\"\"\n",
    "  with open(filename, 'w') as f:\n",
    "    for student in students:\n",
    "      f.write(f\"{student['surname']} {student['name']} {student['patronymic']} {student['year']} {' '.join(str(mark) for mark in student['marks'])}\\n\")\n",
    "\n",
    "if __name__ == \"__main__\":\n",
    "  input_filename = \"input.txt\"\n",
    "  output_filename = \"output.txt\"\n",
    "\n",
    "  students = read_students(input_filename)\n",
    "  sorted_students = sort_students(students)\n",
    "  write_students(sorted_students, output_filename)"
   ]
  },
  {
   "cell_type": "markdown",
   "metadata": {},
   "source": [
    "Сортировки. Матрицы. Задача 1"
   ]
  },
  {
   "cell_type": "code",
   "execution_count": null,
   "metadata": {},
   "outputs": [],
   "source": [
    "def read_matrix(filename):\n",
    "  \"\"\"Читает матрицу из файла и возвращает ее.\"\"\"\n",
    "  with open(filename, 'r') as f:\n",
    "    n = int(f.readline())\n",
    "    matrix = []\n",
    "    for _ in range(n):\n",
    "      row = [int(x) for x in f.readline().split()]\n",
    "      matrix.append(row)\n",
    "  return matrix\n",
    "\n",
    "def sort_matrix(matrix):\n",
    "  \"\"\"Сортирует каждую строчку матрицы по убыванию элементов.\"\"\"\n",
    "  for i in range(len(matrix)):\n",
    "    matrix[i].sort(reverse=True)\n",
    "  return matrix\n",
    "\n",
    "def write_matrix(matrix, filename):\n",
    "  \"\"\"Записывает матрицу в файл.\"\"\"\n",
    "  with open(filename, 'w') as f:\n",
    "    for row in matrix:\n",
    "      f.write(' '.join(str(x) for x in row) + '\\n')\n",
    "\n",
    "if __name__ == \"__main__\":\n",
    "  input_filename = \"input.txt\"\n",
    "  output_filename = \"output.txt\"\n",
    "\n",
    "  matrix = read_matrix(input_filename)\n",
    "  sorted_matrix = sort_matrix(matrix)\n",
    "  write_matrix(sorted_matrix, output_filename)"
   ]
  },
  {
   "cell_type": "markdown",
   "metadata": {},
   "source": [
    "Сортировки. Матрицы. Задача 2"
   ]
  },
  {
   "cell_type": "code",
   "execution_count": null,
   "metadata": {},
   "outputs": [],
   "source": [
    "def read_matrix(filename):\n",
    "  \"\"\"Читает матрицу из файла и возвращает ее.\"\"\"\n",
    "  with open(filename, 'r') as f:\n",
    "    n = int(f.readline())\n",
    "    matrix = []\n",
    "    for _ in range(n):\n",
    "      row = [int(x) for x in f.readline().split()]\n",
    "      matrix.append(row)\n",
    "  return matrix\n",
    "\n",
    "def sort_matrix(matrix):\n",
    "  \"\"\"Сортирует каждый столбец матрицы по возрастанию элементов.\"\"\"\n",
    "  n = len(matrix)\n",
    "  for j in range(n):  # Цикл по столбцам\n",
    "    column = [matrix[i][j] for i in range(n)]  # Извлекаем столбец в отдельный список\n",
    "    column.sort()  # Сортируем столбец\n",
    "    for i in range(n):  # Записываем отсортированный столбец обратно в матрицу\n",
    "      matrix[i][j] = column[i]\n",
    "  return matrix\n",
    "\n",
    "def write_matrix(matrix, filename):\n",
    "  \"\"\"Записывает матрицу в файл.\"\"\"\n",
    "  with open(filename, 'w') as f:\n",
    "    for row in matrix:\n",
    "      f.write(' '.join(str(x) for x in row) + '\\n')\n",
    "\n",
    "if __name__ == \"__main__\":\n",
    "  input_filename = \"input.txt\"\n",
    "  output_filename = \"output.txt\"\n",
    "\n",
    "  matrix = read_matrix(input_filename)\n",
    "  sorted_matrix = sort_matrix(matrix)\n",
    "  write_matrix(sorted_matrix, output_filename)"
   ]
  },
  {
   "cell_type": "markdown",
   "metadata": {},
   "source": [
    "Сортировки. Матрицы. Задача 5"
   ]
  },
  {
   "cell_type": "code",
   "execution_count": null,
   "metadata": {},
   "outputs": [],
   "source": [
    "n = None\n",
    "matrix_in = []\n",
    "\n",
    "with open('input.txt', 'r') as f:\n",
    "    n = int(f.readline().strip())\n",
    "    for _ in range(n):\n",
    "        matrix_in.append([int(x) for x in f.readline().strip().split()])\n",
    "\n",
    "matrix_out = [[0 for _ in range(n)] for _ in range(n)]\n",
    "\n",
    "# Обработка данных, как и прежде\n",
    "for I in range(n):\n",
    "    sorted_column = sorted([line[I] for line in matrix_in], reverse=(I % 2 != 0))\n",
    "    for j in range(n):\n",
    "        matrix_out[j][I] = sorted_column[j]\n",
    "\n",
    "with open('output.txt', 'w') as f:\n",
    "    for line in matrix_out:\n",
    "        f.write(\" \".join(str(x) for x in line) + \"\\n\")"
   ]
  },
  {
   "cell_type": "markdown",
   "metadata": {},
   "source": [
    "Сортировки. Структуры. Задача 8"
   ]
  },
  {
   "cell_type": "code",
   "execution_count": null,
   "metadata": {},
   "outputs": [],
   "source": [
    "# Чтение входных данных из файла\n",
    "with open('input.txt', 'r') as file:\n",
    "    lines = file.readlines()\n",
    "\n",
    "# Количество поставок\n",
    "n = int(lines[0].strip())\n",
    "\n",
    "# Чтение поставок\n",
    "deliveries = []\n",
    "for i in range(1, n + 1):\n",
    "    parts = lines[i].strip().split()\n",
    "    product_name = parts[0]\n",
    "    company_name = parts[1]\n",
    "    quantity = int(parts[2])\n",
    "    deliveries.append((product_name, company_name, quantity))\n",
    "\n",
    "# Название компании, поставки которой исключены\n",
    "excluded_company = lines[n + 1].strip()\n",
    "\n",
    "# Исключение поставок указанной компании\n",
    "filtered_deliveries = [delivery for delivery in deliveries if delivery[1] != excluded_company]\n",
    "\n",
    "# Сортировка поставок по наименованию товара и количеству в порядке убывания\n",
    "sorted_deliveries = sorted(filtered_deliveries, key=lambda x: (x[0], -x[2]))\n",
    "\n",
    "# Получение первых 10 поставок\n",
    "top_10_deliveries = sorted_deliveries[:10]\n",
    "\n",
    "with open('output.txt', 'w') as file:\n",
    "    for delivery in top_10_deliveries:\n",
    "        file.write(f\"{delivery[0]} {delivery[1]} {delivery[2]}\\n\")"
   ]
  },
  {
   "cell_type": "markdown",
   "metadata": {},
   "source": [
    "Сортировки. Структуры. Задача 10"
   ]
  },
  {
   "cell_type": "code",
   "execution_count": null,
   "metadata": {},
   "outputs": [],
   "source": [
    "with open('input.txt', 'r') as file:\n",
    "    lines = file.readlines()\n",
    "\n",
    "# Количество карт\n",
    "n = int(lines[0].strip())\n",
    "\n",
    "# Чтение карт\n",
    "cards = []\n",
    "for i in range(1, n + 1):\n",
    "    parts = lines[i].strip().split()\n",
    "    rank = int(parts[0])\n",
    "    suit = parts[1]\n",
    "    cards.append((rank, suit))\n",
    "\n",
    "# Порядок мастей\n",
    "suit_order = lines[n + 1].strip()\n",
    "\n",
    "# Словарь для хранения карт по мастям\n",
    "suits = {'p': [], 'c': [], 'b': [], 'k': []}\n",
    "\n",
    "# Группировка карт по мастям\n",
    "for rank, suit in cards:\n",
    "    suits[suit].append(rank)\n",
    "\n",
    "# Сортировка карт внутри каждой масти\n",
    "for suit in suits:\n",
    "    suits[suit].sort()\n",
    "\n",
    "# Формирование вывода в соответствии с порядком мастей\n",
    "output_lines = []\n",
    "for suit in suit_order:\n",
    "    ranks = ' '.join(map(str, suits[suit]))\n",
    "    output_lines.append(f\"{suit}: {ranks}\")\n",
    "\n",
    "with open('output.txt', 'w') as file:\n",
    "    for line in output_lines:\n",
    "        file.write(line + '\\n')"
   ]
  },
  {
   "cell_type": "markdown",
   "metadata": {},
   "source": [
    "ЕГЭ. Задача 19"
   ]
  },
  {
   "cell_type": "code",
   "execution_count": null,
   "metadata": {},
   "outputs": [],
   "source": [
    "from collections import Counter\n",
    "\n",
    "with open('input.txt', 'r') as file:\n",
    "    text = file.read().strip()\n",
    "\n",
    "# Удаление точки в конце строки\n",
    "text = text.rstrip('.')\n",
    "\n",
    "# Подсчет частоты каждой буквы\n",
    "counter = Counter(text)\n",
    "\n",
    "# Сортировка букв по частоте и алфавиту\n",
    "sorted_letters = sorted(counter.items(), key=lambda x: (-x[1], x[0]))\n",
    "\n",
    "# Формирование результата\n",
    "result = ''.join(letter for letter, count in sorted_letters)\n",
    "\n",
    "with open('output.txt', 'w') as file:\n",
    "    file.write(result)"
   ]
  },
  {
   "cell_type": "markdown",
   "metadata": {},
   "source": [
    "ЕГЭ 2012-1"
   ]
  },
  {
   "cell_type": "code",
   "execution_count": null,
   "metadata": {},
   "outputs": [],
   "source": [
    "from collections import Counter\n",
    "\n",
    "with open('input.txt', 'r') as file:\n",
    "    lines = file.readlines()\n",
    "\n",
    "# Количество голосов\n",
    "n = int(lines[0].strip())\n",
    "\n",
    "# Считывание голосов и подсчет голосов за каждую страну\n",
    "votes = [line.strip() for line in lines[1:n + 1]]\n",
    "vote_counter = Counter(votes)\n",
    "\n",
    "# Сортировка стран по количеству голосов и алфавиту\n",
    "sorted_countries = sorted(vote_counter.items(), key=lambda x: (-x[1], x[0]))\n",
    "\n",
    "with open('output.txt', 'w') as file:\n",
    "    for country, count in sorted_countries:\n",
    "        file.write(f\"{country} {count}\\n\")"
   ]
  },
  {
   "cell_type": "markdown",
   "metadata": {},
   "source": [
    "ЕГЭ 2012-6"
   ]
  },
  {
   "cell_type": "code",
   "execution_count": null,
   "metadata": {},
   "outputs": [],
   "source": [
    "with open('input.txt', 'r') as file:\n",
    "    lines = file.readlines()\n",
    "!!!!!!!!!!!!!!!!\n",
    "# Количество запросов\n",
    "n = int(lines[0].strip())\n",
    "\n",
    "#  словари для хранения сумм и комиссий по счетам\n",
    "accounts = {}\n",
    "\n",
    "# Обработка запросов\n",
    "for i in range(1, n + 1):\n",
    "    account, amount = lines[i].strip().split(',')\n",
    "    amount = int(amount)\n",
    "    received_amount = amount * 0.95\n",
    "    commission = amount * 0.05\n",
    "    \n",
    "    if account not in accounts:\n",
    "        accounts[account] = [0, 0]  # [сумма на счете, сумма комиссии]\n",
    "    \n",
    "    accounts[account][0] += received_amount\n",
    "    accounts[account][1] += commission\n",
    "\n",
    "# Сортировка счетов по сумме на счете (в порядке убывания) и по названию (в алфавитном порядке)\n",
    "sorted_accounts = sorted(accounts.items(), key=lambda x: (-x[1][0], x[0]))\n",
    "\n",
    "with open('output.txt', 'w') as file:\n",
    "    for account, (total_amount, total_commission) in sorted_accounts:\n",
    "        file.write(f\"{account} {total_amount:.2f} {total_commission:.2f}\\n\")"
   ]
  }
 ],
 "metadata": {
  "kernelspec": {
   "display_name": "Python 3",
   "language": "python",
   "name": "python3"
  },
  "language_info": {
   "codemirror_mode": {
    "name": "ipython",
    "version": 3
   },
   "file_extension": ".py",
   "mimetype": "text/x-python",
   "name": "python",
   "nbconvert_exporter": "python",
   "pygments_lexer": "ipython3",
   "version": "3.11.7"
  }
 },
 "nbformat": 4,
 "nbformat_minor": 2
}
