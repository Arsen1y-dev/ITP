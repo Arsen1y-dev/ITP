{
 "cells": [
  {
   "cell_type": "markdown",
   "metadata": {},
   "source": [
    "10.1 Сортировки"
   ]
  },
  {
   "cell_type": "markdown",
   "metadata": {},
   "source": [
    "Сортировки. Записи. Задача 2"
   ]
  },
  {
   "cell_type": "code",
   "execution_count": 1,
   "metadata": {},
   "outputs": [],
   "source": [
    "def read_students(filename):\n",
    "  \"\"\"Читает данные о студентах из файла и возвращает список словарей.\"\"\"\n",
    "  with open(filename, 'r') as f:\n",
    "    n = int(f.readline())\n",
    "    students = []\n",
    "    for _ in range(n):\n",
    "      surname, name, patronymic, year, *marks = f.readline().split()\n",
    "      students.append({\n",
    "          'surname': surname,\n",
    "          'name': name,\n",
    "          'patronymic': patronymic,\n",
    "          'year': int(year),\n",
    "          'marks': [int(mark) for mark in marks]\n",
    "      })\n",
    "  return students\n",
    "\n",
    "def calculate_average(student):\n",
    "  \"\"\"Вычисляет среднюю оценку студента.\"\"\"\n",
    "  return sum(student['marks']) / len(student['marks'])\n",
    "\n",
    "def sort_students(students):\n",
    "  \"\"\"Сортирует список студентов по возрастанию средней оценки.\"\"\"\n",
    "  return sorted(students, key=calculate_average)\n",
    "\n",
    "def write_students(students, filename):\n",
    "  \"\"\"Записывает информацию о студентах в файл.\"\"\"\n",
    "  with open(filename, 'w') as f:\n",
    "    for student in students:\n",
    "      f.write(f\"{student['surname']} {student['name']} {student['patronymic']} {student['year']} {' '.join(str(mark) for mark in student['marks'])}\\n\")\n",
    "\n",
    "if __name__ == \"__main__\":\n",
    "  input_filename = \"input.txt\"\n",
    "  output_filename = \"output.txt\"\n",
    "\n",
    "  students = read_students(input_filename)\n",
    "  sorted_students = sort_students(students)\n",
    "  write_students(sorted_students, output_filename)"
   ]
  },
  {
   "cell_type": "markdown",
   "metadata": {},
   "source": [
    "Сортировки. Записи. Задача 1"
   ]
  },
  {
   "cell_type": "code",
   "execution_count": 3,
   "metadata": {},
   "outputs": [],
   "source": []
  },
  {
   "cell_type": "markdown",
   "metadata": {},
   "source": [
    "Сортировки. Записи. Задача 5"
   ]
  },
  {
   "cell_type": "code",
   "execution_count": null,
   "metadata": {},
   "outputs": [],
   "source": [
    "def read_students(filename):\n",
    "  \"\"\"Читает данные о студентах из файла и возвращает список словарей.\"\"\"\n",
    "  with open(filename, 'r') as f:\n",
    "    n = int(f.readline())\n",
    "    students = []\n",
    "    for _ in range(n):\n",
    "      surname, name, patronymic, year, *marks = f.readline().split()\n",
    "      students.append({\n",
    "          'surname': surname,\n",
    "          'name': name,\n",
    "          'patronymic': patronymic,\n",
    "          'year': int(year),\n",
    "          'marks': [int(mark) for mark in marks]\n",
    "      })\n",
    "  return students\n",
    "\n",
    "def sort_students(students):\n",
    "  \"\"\"Сортирует список студентов по фамилии в алфавитном порядке, затем по убыванию года рождения.\"\"\"\n",
    "  return sorted(students, key=lambda student: (student['surname'], -student['year']))\n",
    "\n",
    "def write_students(students, filename):\n",
    "  \"\"\"Записывает информацию о студентах в файл.\"\"\"\n",
    "  with open(filename, 'w') as f:\n",
    "    for student in students:\n",
    "      f.write(f\"{student['surname']} {student['name']} {student['patronymic']} {student['year']} {' '.join(str(mark) for mark in student['marks'])}\\n\")\n",
    "\n",
    "if __name__ == \"__main__\":\n",
    "  input_filename = \"input.txt\"\n",
    "  output_filename = \"output.txt\"\n",
    "\n",
    "  students = read_students(input_filename)\n",
    "  sorted_students = sort_students(students)\n",
    "  write_students(sorted_students, output_filename)"
   ]
  },
  {
   "cell_type": "markdown",
   "metadata": {},
   "source": [
    "Сортировки. Матрицы. Задача 1"
   ]
  },
  {
   "cell_type": "code",
   "execution_count": null,
   "metadata": {},
   "outputs": [],
   "source": [
    "def read_matrix(filename):\n",
    "  \"\"\"Читает матрицу из файла и возвращает ее.\"\"\"\n",
    "  with open(filename, 'r') as f:\n",
    "    n = int(f.readline())\n",
    "    matrix = []\n",
    "    for _ in range(n):\n",
    "      row = [int(x) for x in f.readline().split()]\n",
    "      matrix.append(row)\n",
    "  return matrix\n",
    "\n",
    "def sort_matrix(matrix):\n",
    "  \"\"\"Сортирует каждую строчку матрицы по убыванию элементов.\"\"\"\n",
    "  for i in range(len(matrix)):\n",
    "    matrix[i].sort(reverse=True)\n",
    "  return matrix\n",
    "\n",
    "def write_matrix(matrix, filename):\n",
    "  \"\"\"Записывает матрицу в файл.\"\"\"\n",
    "  with open(filename, 'w') as f:\n",
    "    for row in matrix:\n",
    "      f.write(' '.join(str(x) for x in row) + '\\n')\n",
    "\n",
    "if __name__ == \"__main__\":\n",
    "  input_filename = \"input.txt\"\n",
    "  output_filename = \"output.txt\"\n",
    "\n",
    "  matrix = read_matrix(input_filename)\n",
    "  sorted_matrix = sort_matrix(matrix)\n",
    "  write_matrix(sorted_matrix, output_filename)"
   ]
  },
  {
   "cell_type": "markdown",
   "metadata": {},
   "source": [
    "Сортировки. Матрицы. Задача 2"
   ]
  },
  {
   "cell_type": "code",
   "execution_count": null,
   "metadata": {},
   "outputs": [],
   "source": [
    "def read_matrix(filename):\n",
    "  \"\"\"Читает матрицу из файла и возвращает ее.\"\"\"\n",
    "  with open(filename, 'r') as f:\n",
    "    n = int(f.readline())\n",
    "    matrix = []\n",
    "    for _ in range(n):\n",
    "      row = [int(x) for x in f.readline().split()]\n",
    "      matrix.append(row)\n",
    "  return matrix\n",
    "\n",
    "def sort_matrix(matrix):\n",
    "  \"\"\"Сортирует каждый столбец матрицы по возрастанию элементов.\"\"\"\n",
    "  n = len(matrix)\n",
    "  for j in range(n):  # Цикл по столбцам\n",
    "    column = [matrix[i][j] for i in range(n)]  # Извлекаем столбец в отдельный список\n",
    "    column.sort()  # Сортируем столбец\n",
    "    for i in range(n):  # Записываем отсортированный столбец обратно в матрицу\n",
    "      matrix[i][j] = column[i]\n",
    "  return matrix\n",
    "\n",
    "def write_matrix(matrix, filename):\n",
    "  \"\"\"Записывает матрицу в файл.\"\"\"\n",
    "  with open(filename, 'w') as f:\n",
    "    for row in matrix:\n",
    "      f.write(' '.join(str(x) for x in row) + '\\n')\n",
    "\n",
    "if __name__ == \"__main__\":\n",
    "  input_filename = \"input.txt\"\n",
    "  output_filename = \"output.txt\"\n",
    "\n",
    "  matrix = read_matrix(input_filename)\n",
    "  sorted_matrix = sort_matrix(matrix)\n",
    "  write_matrix(sorted_matrix, output_filename)"
   ]
  },
  {
   "cell_type": "markdown",
   "metadata": {},
   "source": [
    "Сортировки. Матрицы. Задача 5"
   ]
  },
  {
   "cell_type": "code",
   "execution_count": null,
   "metadata": {},
   "outputs": [],
   "source": []
  },
  {
   "cell_type": "markdown",
   "metadata": {},
   "source": [
    "Сортировки. Структуры. Задача 8"
   ]
  },
  {
   "cell_type": "code",
   "execution_count": null,
   "metadata": {},
   "outputs": [],
   "source": []
  },
  {
   "cell_type": "markdown",
   "metadata": {},
   "source": [
    "Сортировки. Структуры. Задача 10"
   ]
  },
  {
   "cell_type": "code",
   "execution_count": null,
   "metadata": {},
   "outputs": [],
   "source": []
  },
  {
   "cell_type": "markdown",
   "metadata": {},
   "source": [
    "ЕГЭ. Задача 19"
   ]
  },
  {
   "cell_type": "code",
   "execution_count": null,
   "metadata": {},
   "outputs": [],
   "source": []
  },
  {
   "cell_type": "markdown",
   "metadata": {},
   "source": [
    "ЕГЭ 2012-1"
   ]
  },
  {
   "cell_type": "code",
   "execution_count": null,
   "metadata": {},
   "outputs": [],
   "source": []
  },
  {
   "cell_type": "markdown",
   "metadata": {},
   "source": [
    "ЕГЭ 2012-6"
   ]
  },
  {
   "cell_type": "code",
   "execution_count": null,
   "metadata": {},
   "outputs": [],
   "source": []
  }
 ],
 "metadata": {
  "kernelspec": {
   "display_name": "Python 3",
   "language": "python",
   "name": "python3"
  },
  "language_info": {
   "codemirror_mode": {
    "name": "ipython",
    "version": 3
   },
   "file_extension": ".py",
   "mimetype": "text/x-python",
   "name": "python",
   "nbconvert_exporter": "python",
   "pygments_lexer": "ipython3",
   "version": "3.11.7"
  }
 },
 "nbformat": 4,
 "nbformat_minor": 2
}
