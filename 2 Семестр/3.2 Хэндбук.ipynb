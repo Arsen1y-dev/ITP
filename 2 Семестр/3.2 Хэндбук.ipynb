{
 "cells": [
  {
   "cell_type": "markdown",
   "metadata": {},
   "source": [
    "Хэндбук: множества"
   ]
  },
  {
   "cell_type": "markdown",
   "metadata": {},
   "source": [
    "Символическая выжимка"
   ]
  },
  {
   "cell_type": "code",
   "execution_count": 1,
   "metadata": {},
   "outputs": [
    {
     "name": "stdout",
     "output_type": "stream",
     "text": [
      "дзме\n"
     ]
    }
   ],
   "source": [
    "print(''.join(set(input())))   "
   ]
  },
  {
   "cell_type": "markdown",
   "metadata": {},
   "source": [
    "Символическая разница"
   ]
  },
  {
   "cell_type": "code",
   "execution_count": null,
   "metadata": {},
   "outputs": [],
   "source": [
    "print(''.join(set(input()).intersection(set(input()))))"
   ]
  },
  {
   "cell_type": "markdown",
   "metadata": {},
   "source": [
    "Зайка — 8"
   ]
  },
  {
   "cell_type": "code",
   "execution_count": null,
   "metadata": {},
   "outputs": [],
   "source": [
    "obj = []\n",
    "for _ in range(int(input())):\n",
    "    obj.extend(input().split())\n",
    "print('\\n'.join(set(obj)))"
   ]
  },
  {
   "cell_type": "markdown",
   "metadata": {},
   "source": [
    "Кашееды"
   ]
  },
  {
   "cell_type": "code",
   "execution_count": null,
   "metadata": {},
   "outputs": [],
   "source": [
    "a, b = int(input()), int(input())\n",
    "c, d = set(), set()\n",
    "for _ in range(a):\n",
    "    c.add(input())\n",
    "for _ in range(b):\n",
    "    d.add(input())\n",
    "both = len(c & d)\n",
    "print(both if both else 'Таких нет')"
   ]
  },
  {
   "cell_type": "markdown",
   "metadata": {},
   "source": [
    "Кашееды - 2"
   ]
  },
  {
   "cell_type": "code",
   "execution_count": null,
   "metadata": {},
   "outputs": [],
   "source": [
    "a, b = int(input()), int(input())\n",
    "c = []\n",
    "for _ in range(a + b):\n",
    "    c.append(input())\n",
    "both = len([i for i in c if c.count(i) == 1])\n",
    "print(both if both else 'Таких нет')"
   ]
  },
  {
   "cell_type": "markdown",
   "metadata": {},
   "source": [
    "Кашееды — 3"
   ]
  },
  {
   "cell_type": "code",
   "execution_count": null,
   "metadata": {},
   "outputs": [],
   "source": [
    "a, b = int(input()), int(input())\n",
    "c = []\n",
    "for _ in range(a + b):\n",
    "    if (x := input()) not in c:\n",
    "        c.append(x)\n",
    "    else:\n",
    "        c.remove(x)\n",
    "if len(c):\n",
    "    for kid in sorted(c):\n",
    "        print(kid)\n",
    "else:\n",
    "    print('Таких нет')"
   ]
  },
  {
   "cell_type": "markdown",
   "metadata": {},
   "source": [
    "Дайте чего-нибудь новенького!"
   ]
  },
  {
   "cell_type": "code",
   "execution_count": null,
   "metadata": {},
   "outputs": [],
   "source": [
    "menu, new_menu = set(), set()\n",
    "for _ in range(int(input())):\n",
    "    menu.add(input())\n",
    "for _ in range(int(input())):\n",
    "    for j in range(int(input())):\n",
    "        new_menu.add(input())\n",
    "a = sorted(menu - new_menu)\n",
    "if a:\n",
    "    for dish in a:\n",
    "        print(dish)\n",
    "else:\n",
    "    print('Готовить нечего')"
   ]
  },
  {
   "cell_type": "markdown",
   "metadata": {},
   "source": [
    "Это будет шедевр!"
   ]
  },
  {
   "cell_type": "code",
   "execution_count": 1,
   "metadata": {},
   "outputs": [
    {
     "name": "stdout",
     "output_type": "stream",
     "text": [
      "Тосты\n",
      "Яблочныйй сок\n"
     ]
    }
   ],
   "source": [
    "ing, dishes = [], set()\n",
    "for _ in range(int(input())):\n",
    "    ing.append(input())\n",
    "for _ in range(int(input())):\n",
    "    dishes.add(x := input())\n",
    "    for i in range(int(input())):\n",
    "        if input() not in ing:\n",
    "            dishes.discard(x)\n",
    "if dishes:\n",
    "    for dish in sorted(dishes):\n",
    "        print(dish)\n",
    "else:\n",
    "    print('Готовить нечего')"
   ]
  },
  {
   "cell_type": "markdown",
   "metadata": {},
   "source": [
    "Зайка — 10"
   ]
  },
  {
   "cell_type": "code",
   "execution_count": null,
   "metadata": {},
   "outputs": [],
   "source": [
    "near = set()\n",
    "while x := input().split():\n",
    "    for ind, i in enumerate(x):\n",
    "        if i == 'зайка' and ind not in (0, len(x) - 1):\n",
    "            near.add(x[ind - 1])\n",
    "            near.add(x[ind + 1])\n",
    "        elif i == 'зайка' and not ind:\n",
    "            near.add(x[ind + 1])\n",
    "        elif i == 'зайка' and ind == len(x) - 1:\n",
    "            near.add(x[ind - 1])\n",
    "for item in near:\n",
    "    print(item)"
   ]
  },
  {
   "cell_type": "markdown",
   "metadata": {},
   "source": [
    "Азбука Морзе"
   ]
  },
  {
   "cell_type": "code",
   "execution_count": null,
   "metadata": {},
   "outputs": [],
   "source": [
    "MORSE = {\n",
    "    'A': '.-', 'B': '-...', 'C': '-.-.',\n",
    "    'D': '-..', 'E': '.', 'F': '..-.',\n",
    "    'G': '--.', 'H': '....', 'I': '..',\n",
    "    'J': '.---', 'K': '-.-', 'L': '.-..',\n",
    "    'M': '--', 'N': '-.', 'O': '---',\n",
    "    'P': '.--.', 'Q': '--.-', 'R': '.-.',\n",
    "    'S': '...', 'T': '-', 'U': '..-',\n",
    "    'V': '...-', 'W': '.--', 'X': '-..-',\n",
    "    'Y': '-.--', 'Z': '--..',\n",
    "    '0': '-----', '1': '.----', '2': '..---',\n",
    "    '3': '...--', '4': '....-', '5': '.....',\n",
    "    '6': '-....', '7': '--...', '8': '---..',\n",
    "    '9': '----.', ' ': ' ',\n",
    "}\n",
    "line = input()\n",
    "for letter in line:\n",
    "    print(MORSE[letter.upper()], end=' ' if letter != ' ' else '\\n')"
   ]
  },
  {
   "cell_type": "markdown",
   "metadata": {},
   "source": [
    "Кашееды — 4"
   ]
  },
  {
   "cell_type": "code",
   "execution_count": null,
   "metadata": {},
   "outputs": [],
   "source": [
    "a, kids = int(input()), []\n",
    "for _ in range(a):\n",
    "    kids.extend([input().split()])\n",
    "kids.sort()\n",
    "key, cnt = input(), 0\n",
    "for kid in kids:\n",
    "    if key in kid[1:]:\n",
    "        print(kid[0])\n",
    "        cnt += 1\n",
    "if not cnt:\n",
    "    print('Таких нет')"
   ]
  },
  {
   "cell_type": "markdown",
   "metadata": {},
   "source": [
    "Зайка — 9"
   ]
  },
  {
   "cell_type": "code",
   "execution_count": null,
   "metadata": {},
   "outputs": [],
   "source": [
    "d = {}\n",
    "while x := input().split():\n",
    "    for i in x:\n",
    "        if i not in d:\n",
    "            d[i] = 1\n",
    "        else:\n",
    "            d[i] += 1\n",
    "for j in d:\n",
    "    print(j, d[j])"
   ]
  },
  {
   "cell_type": "markdown",
   "metadata": {},
   "source": [
    "Транслитерация"
   ]
  },
  {
   "cell_type": "code",
   "execution_count": 2,
   "metadata": {},
   "outputs": [
    {
     "name": "stdout",
     "output_type": "stream",
     "text": [
      "Privet, mir!"
     ]
    }
   ],
   "source": [
    "lit = {'А': 'A', 'Б': 'B', 'В': 'V',\n",
    "    'Г': 'G', 'Д': 'D', 'Е': 'E',\n",
    "    'Ё': 'E', 'Ж': 'ZH', 'З': 'Z',\n",
    "    'И': 'I', 'Й': 'I', 'К': 'K',\n",
    "    'Л': 'L', 'М': 'M', 'Н': 'N',\n",
    "    'О': 'O', 'П': 'P', 'Р': 'R',\n",
    "    'С': 'S', 'Т': 'T', 'У': 'U',\n",
    "    'Ф': 'F', 'Х': 'KH', 'Ц': 'TC',\n",
    "    'Ч': 'CH', 'Ш': 'SH', 'Щ': 'SHCH',\n",
    "    'Ы': 'Y', 'Э': 'E', 'Ю': 'IU',\n",
    "    'Я': 'IA', 'Ь': '', 'Ъ': ''}\n",
    "for i in (x := input()):\n",
    "    if i.upper() in lit:\n",
    "        print(lit[i.upper()].lower().capitalize() if i == i.upper() else lit[i.upper()].lower(), end='')\n",
    "    else:\n",
    "        print(i, end='')"
   ]
  },
  {
   "cell_type": "markdown",
   "metadata": {},
   "source": [
    "Однофамильцы"
   ]
  },
  {
   "cell_type": "code",
   "execution_count": 2,
   "metadata": {},
   "outputs": [
    {
     "name": "stdout",
     "output_type": "stream",
     "text": [
      "5\n"
     ]
    }
   ],
   "source": [
    "people = []\n",
    "for _ in range(int(input())):\n",
    "    people.append(input())\n",
    "print(len([i for i in people if people.count(i) > 1]))"
   ]
  },
  {
   "cell_type": "markdown",
   "metadata": {},
   "source": [
    "Однофамильцы — 2"
   ]
  },
  {
   "cell_type": "code",
   "execution_count": null,
   "metadata": {},
   "outputs": [],
   "source": [
    "people = []\n",
    "for _ in range(int(input())):\n",
    "    people.append(input())\n",
    "people = [i + ' - ' + str(people.count(i)) for i in set(people) if people.count(i) > 1]\n",
    "if people:\n",
    "    for x in sorted(people):\n",
    "        print(x)\n",
    "else:\n",
    "    print('Однофамильцев нет')"
   ]
  },
  {
   "cell_type": "markdown",
   "metadata": {},
   "source": [
    "* Двоичная статистика!"
   ]
  },
  {
   "cell_type": "code",
   "execution_count": null,
   "metadata": {},
   "outputs": [],
   "source": [
    "data = []\n",
    "for i in list(map(lambda x: bin(int(x))[2:], input().split())):\n",
    "    data.append({\"digits\": len(i),\n",
    "                 \"units\": i.count('1'),\n",
    "                 \"zeros\": i.count('0')})\n",
    "print(data)"
   ]
  },
  {
   "cell_type": "markdown",
   "metadata": {},
   "source": [
    "* Друзья друзей"
   ]
  },
  {
   "cell_type": "code",
   "execution_count": null,
   "metadata": {},
   "outputs": [],
   "source": [
    "friends = {}\n",
    "while x := input().split():\n",
    "    if x[0] not in friends:\n",
    "        friends[x[0]] = {x[1]}\n",
    "    else:\n",
    "        friends[x[0]].add(x[1])\n",
    "    if x[1] not in friends:\n",
    "        friends[x[1]] = {x[0]}\n",
    "    else:\n",
    "        friends[x[1]].add(x[0])\n",
    "friends_2 = dict.fromkeys(friends, set())\n",
    "for friend in friends:\n",
    "    for n in friends[friend]:\n",
    "        friends_2[friend] = friends_2[friend].union(friends[n])\n",
    "    friends_2[friend].discard(friend)\n",
    "    for z in friends[friend]:\n",
    "        friends_2[friend].discard(z)\n",
    "data = []\n",
    "for friend in friends_2:\n",
    "    data.append(f'{friend}: {\", \".join(sorted(friends_2[friend]))}')\n",
    "data.sort()\n",
    "for string in data:\n",
    "    print(string)"
   ]
  },
  {
   "cell_type": "markdown",
   "metadata": {},
   "source": [
    "* Карта сокровищ"
   ]
  },
  {
   "cell_type": "code",
   "execution_count": null,
   "metadata": {},
   "outputs": [],
   "source": [
    "d = {}\n",
    "for _ in range(int(input())):\n",
    "    x = input().split()\n",
    "    if not (z := f'{x[0][:-1]}-{x[1][:-1]}') in d:\n",
    "        d[z] = 1\n",
    "    else:\n",
    "        d[z] += 1\n",
    "print(max(d.values()))"
   ]
  },
  {
   "cell_type": "markdown",
   "metadata": {},
   "source": [
    "* Частная собственность"
   ]
  },
  {
   "cell_type": "code",
   "execution_count": null,
   "metadata": {},
   "outputs": [],
   "source": [
    "data = []\n",
    "for _ in range(int(input())):\n",
    "    k = list(map(lambda x: x.rstrip(','), input().split()))\n",
    "    data.extend(set(k[1:]))\n",
    "data = sorted(toy for toy in data if data.count(toy) == 1)\n",
    "for kid in data:\n",
    "    print(kid)data = []\n",
    "for _ in range(int(input())):\n",
    "    k = list(map(lambda x: x.rstrip(','), input().split()))\n",
    "    data.extend(set(k[1:]))\n",
    "data = sorted(toy for toy in data if data.count(toy) == 1)\n",
    "for kid in data:\n",
    "    print(kid)"
   ]
  },
  {
   "cell_type": "markdown",
   "metadata": {},
   "source": [
    "* Простая задача 4.0"
   ]
  },
  {
   "cell_type": "code",
   "execution_count": null,
   "metadata": {},
   "outputs": [],
   "source": [
    "data = sorted(map(int, input().split('; ')))\n",
    "result = dict.fromkeys(data)\n",
    "for i in data:\n",
    "    for j in data:\n",
    "        a, b = i, j\n",
    "        while b:\n",
    "            a, b = b, a % b\n",
    "        if a == 1:\n",
    "            if result[i]:\n",
    "                result[i].add(j)\n",
    "            else:\n",
    "                result[i] = {j}\n",
    "for number in result:\n",
    "    if result[number]:\n",
    "        print(f'{number} - {\", \".join(map(str, sorted(result[number])))}')"
   ]
  }
 ],
 "metadata": {
  "kernelspec": {
   "display_name": "Python 3",
   "language": "python",
   "name": "python3"
  },
  "language_info": {
   "codemirror_mode": {
    "name": "ipython",
    "version": 3
   },
   "file_extension": ".py",
   "mimetype": "text/x-python",
   "name": "python",
   "nbconvert_exporter": "python",
   "pygments_lexer": "ipython3",
   "version": "3.11.7"
  }
 },
 "nbformat": 4,
 "nbformat_minor": 2
}
