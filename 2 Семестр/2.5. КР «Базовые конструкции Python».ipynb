{
 "cells": [
  {
   "cell_type": "markdown",
   "metadata": {},
   "source": [
    "2.5. КР «Базовые конструкции Python»"
   ]
  },
  {
   "cell_type": "markdown",
   "metadata": {},
   "source": [
    "Математическое форматирование"
   ]
  },
  {
   "cell_type": "code",
   "execution_count": 2,
   "metadata": {},
   "outputs": [
    {
     "name": "stdout",
     "output_type": "stream",
     "text": [
      "(1 ^ 2) mod (1 + 3) = 1\n"
     ]
    }
   ],
   "source": [
    "a = int(input())\n",
    "b = int(input())\n",
    "c = int(input())\n",
    "\n",
    "res = (a ** b) % (a + c)\n",
    "\n",
    "print(f'({a} ^ {b}) mod ({a} + {c}) = {res}')"
   ]
  },
  {
   "cell_type": "markdown",
   "metadata": {},
   "source": [
    "Странный калькулятор"
   ]
  },
  {
   "cell_type": "code",
   "execution_count": 4,
   "metadata": {},
   "outputs": [
    {
     "name": "stdout",
     "output_type": "stream",
     "text": [
      "28\n"
     ]
    }
   ],
   "source": [
    "num1 = int(input())\n",
    "text = input()\n",
    "num2 = int(input())\n",
    "\n",
    "if ' ' in text and len(text) % 2 == 0:\n",
    "    print(num1 + num2)\n",
    "elif ' ' not in text and len(text) % 2 == 0:\n",
    "    print(num1 - num2)\n",
    "elif ' ' in text and len(text) % 2 == 1:\n",
    "    print(num1 * num2)\n",
    "else:\n",
    "    print(num1 // num2)"
   ]
  },
  {
   "cell_type": "markdown",
   "metadata": {},
   "source": [
    "Числовое колебание"
   ]
  },
  {
   "cell_type": "code",
   "execution_count": 6,
   "metadata": {},
   "outputs": [
    {
     "name": "stdout",
     "output_type": "stream",
     "text": [
      "1 - 3 - 5 - 5 - 3 - 1\n"
     ]
    }
   ],
   "source": [
    "N = int(input())\n",
    "M = int(input())\n",
    "D = int(input())\n",
    "\n",
    "seq = list(range(N, M + 1, D))\n",
    "seq.extend(range(M, N - 1, -D))\n",
    "\n",
    "print(\" - \".join(map(str, seq)))"
   ]
  },
  {
   "cell_type": "markdown",
   "metadata": {},
   "source": [
    "Интересный максимум"
   ]
  },
  {
   "cell_type": "code",
   "execution_count": 19,
   "metadata": {},
   "outputs": [
    {
     "name": "stdout",
     "output_type": "stream",
     "text": [
      "2\n"
     ]
    }
   ],
   "source": [
    "N = int(input())\n",
    "M = int(input())\n",
    "\n",
    "nums = [int(input()) for _ in range(N)]\n",
    "\n",
    "a = float('-inf')\n",
    "\n",
    "for i in range(1, N):\n",
    "    b = abs(nums[i] - nums[i - 1])\n",
    "    if b < M:\n",
    "        a = max(a, nums[i])\n",
    "\n",
    "print(a)\n"
   ]
  },
  {
   "cell_type": "markdown",
   "metadata": {},
   "source": [
    "Минимальное среднее"
   ]
  },
  {
   "cell_type": "code",
   "execution_count": null,
   "metadata": {},
   "outputs": [],
   "source": [
    "n = int(input())\n",
    "s = []\n",
    "for i in range(n):\n",
    "    a = []\n",
    "    while True:\n",
    "        num = input()\n",
    "        if num == 'end':\n",
    "            s.append(sum(a) / len(a))\n",
    "            a.clear()\n",
    "            break\n",
    "        a.append(int(num))\n",
    "        \n",
    "\n",
    "print(f'{min(s):.2f}')"
   ]
  }
 ],
 "metadata": {
  "kernelspec": {
   "display_name": "Python 3",
   "language": "python",
   "name": "python3"
  },
  "language_info": {
   "codemirror_mode": {
    "name": "ipython",
    "version": 3
   },
   "file_extension": ".py",
   "mimetype": "text/x-python",
   "name": "python",
   "nbconvert_exporter": "python",
   "pygments_lexer": "ipython3",
   "version": "3.11.7"
  }
 },
 "nbformat": 4,
 "nbformat_minor": 2
}
