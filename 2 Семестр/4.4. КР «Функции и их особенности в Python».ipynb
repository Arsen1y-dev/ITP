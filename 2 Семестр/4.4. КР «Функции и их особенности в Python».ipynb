{
 "cells": [
  {
   "cell_type": "markdown",
   "metadata": {},
   "source": [
    "4.4. КР «Функции и их особенности в Python»"
   ]
  },
  {
   "cell_type": "markdown",
   "metadata": {},
   "source": [
    "Ветряный вывод"
   ]
  },
  {
   "cell_type": "code",
   "execution_count": null,
   "metadata": {},
   "outputs": [],
   "source": [
    "def print_weather(wind, temperature):\n",
    "    print(f\"За окном дует ветер со скоростью {wind} м/с. Температура воздуха {temperature}°C.\")\n"
   ]
  },
  {
   "cell_type": "markdown",
   "metadata": {},
   "source": [
    "Глобальное произведение"
   ]
  },
  {
   "cell_type": "code",
   "execution_count": 2,
   "metadata": {},
   "outputs": [
    {
     "name": "stdout",
     "output_type": "stream",
     "text": [
      "1 * 2 * 3 = 6\n",
      "1 * 2 * 3 * 7 * 2 = 84\n",
      "1 * 2 * 3 * 7 * 2 * 5 = 420\n"
     ]
    }
   ],
   "source": [
    "numbers = []\n",
    "\n",
    "\n",
    "def add_number(number):\n",
    "    numbers.append(number)\n",
    "\n",
    "\n",
    "def get_prod():\n",
    "    prod = 1\n",
    "    prod_str = \"\"\n",
    "    for num in numbers:\n",
    "        prod *= num\n",
    "        prod_str += str(num) + \" * \"\n",
    "    prod_str = prod_str[:-3] + \" = \" + str(prod)\n",
    "    return prod_str\n"
   ]
  },
  {
   "cell_type": "markdown",
   "metadata": {},
   "source": [
    "1. Сначала создается пустой список numbers.\n",
    "\n",
    "2. Функция add_number(number) принимает число в качестве аргумента и добавляет его в список numbers.\n",
    "\n",
    "3. Функция get_prod() инициализирует переменную prod равной 1 и пустую строку prod_str.\n",
    "\n",
    "4. Затем она проходит по каждому числу в списке numbers, умножая текущее значение переменной prod на это число и добавляя число в строку prod_str в формате \"число * \".\n",
    "\n",
    "5. После завершения цикла строка prod_str обновляется, чтобы удалить последние три символа (\" * \") и добавить \" = \" и результат умножения всех чисел.\n",
    "\n",
    "6. Наконец, функция возвращает строку prod_str, содержащую произведение всех чисел из списка numbers в виде удобного для чтения выражения.\n",
    "\n",
    "Таким образом, код позволяет добавлять числа в список и затем получать строку, представляющую их произведение."
   ]
  },
  {
   "cell_type": "markdown",
   "metadata": {},
   "source": [
    "Кратный подсчёт"
   ]
  },
  {
   "cell_type": "code",
   "execution_count": 1,
   "metadata": {},
   "outputs": [],
   "source": [
    "def count_pairs(*numbers, div=10):\n",
    "    cnt = 0\n",
    "\n",
    "    for i in range(len(numbers) - 1):\n",
    "        for j in range(i + 1, len(numbers)):\n",
    "            cnt += ((numbers[i] + numbers[j]) % div == 0)\n",
    "\n",
    "    return cnt"
   ]
  },
  {
   "cell_type": "markdown",
   "metadata": {},
   "source": [
    "1. Переменная cnt инициализируется нулем. Она будет использоваться для подсчета количества пар чисел, сумма которых делится на div.\n",
    "\n",
    "2. Вложенные циклы for проходят по всем парам чисел в переданных аргументах. Они сравнивают каждую пару чисел (по индексам i и j) и увеличивают переменную cnt на 1, если сумма этих двух чисел делится на div.\n",
    "\n",
    "3. Выражение ((numbers[i] + numbers[j]) % div == 0) проверяет, делится ли сумма чисел numbers[i] и numbers[j] на div. Если да, то к переменной cnt прибавляется 1.\n",
    "\n",
    "4. По завершении циклов функция возвращает значение переменной cnt, которое представляет количество пар чисел, сумма которых делится на div.\n",
    "\n",
    "Таким образом, функция count_pairs анализирует переданные числа и подсчитывает количество пар, сумма которых делится на заданное число div."
   ]
  },
  {
   "cell_type": "markdown",
   "metadata": {},
   "source": [
    "Генератор индексов"
   ]
  },
  {
   "cell_type": "code",
   "execution_count": null,
   "metadata": {},
   "outputs": [],
   "source": [
    "# Решение Димы Крыгина\n",
    "def index(text):\n",
    "    s = []\n",
    "    for x in text:\n",
    "        if x.isalpha():\n",
    "            s.append(x)\n",
    "    for x in sorted(set(s)):\n",
    "        if x.isalpha():\n",
    "            yield x, text.index(x)\n"
   ]
  },
  {
   "cell_type": "markdown",
   "metadata": {},
   "source": [
    "1. В начале функции создается пустой список s, который будет содержать только буквы из строки text.\n",
    "\n",
    "2. Первый цикл for проходит по каждому символу x в строке text. Если символ является буквой (проверка выполняется с помощью метода isalpha()), он добавляется в список s.\n",
    "\n",
    "3. Затем создается множество (set) из уникальных букв, содержащихся в списке s, и сортируется.\n",
    "\n",
    "4. Второй цикл for проходит по отсортированному множеству букв. Для каждой буквы x в этом множестве проверяется, является ли она буквой (проверка снова выполняется с помощью isalpha()), и затем используется ключевое слово yield для возврата пары (буква, индекс этой буквы в исходной строке).\n",
    "\n",
    "5. Функция работает таким образом, что при каждой итерации второго цикла она возвращает очередную пару (буква, индекс) до тех пор, пока все буквы из отсортированного множества не будут обработаны.\n",
    "\n",
    "Таким образом, функция index извлекает все буквы из строки, сортирует их, а затем возвращает пары (буква, индекс), где индекс указывает на позицию каждой буквы в исходной строке."
   ]
  },
  {
   "cell_type": "code",
   "execution_count": null,
   "metadata": {},
   "outputs": [],
   "source": [
    "# Решение Вероники\n",
    "def index(text):\n",
    "    for s in sorted(set(text)):\n",
    "        if s.isalpha():\n",
    "            yield s, text.index(s)"
   ]
  },
  {
   "cell_type": "markdown",
   "metadata": {},
   "source": [
    "Путешествие зайки"
   ]
  },
  {
   "cell_type": "code",
   "execution_count": null,
   "metadata": {},
   "outputs": [],
   "source": [
    "from itertools import product\n",
    "\n",
    "\n",
    "def bunny(start, finish, length):\n",
    "    print(start, finish, length)\n",
    "    if length == 1:\n",
    "        return [[start, finish]]\n",
    "\n",
    "    res = []\n",
    "    for variant in product(range(start - 3, finish + 4), repeat=length - 1):\n",
    "        if finish in variant:\n",
    "            continue\n",
    "        flag = True\n",
    "        for i in range(1, len(variant)):\n",
    "            if abs(variant[i] - variant[i - 1]) not in (1, 3):\n",
    "                flag = False\n",
    "                break\n",
    "        if flag:\n",
    "            if abs(start - variant[0]) in (1, 3) and abs(finish - variant[-1]) in (1, 3):\n",
    "                res.append([start] + [*variant] + [finish])\n",
    "    return res\n"
   ]
  },
  {
   "cell_type": "markdown",
   "metadata": {},
   "source": [
    "1. Функция bunny принимает три аргумента: start (начальное число), finish (конечное число) и length (длина последовательности).\n",
    "\n",
    "2. Если длина length равна 1, функция возвращает список, содержащий список с двумя элементами: start и finish.\n",
    "\n",
    "3. Иначе, если length больше 1, функция создает пустой список res, который будет содержать все удовлетворяющие условия последовательности.\n",
    "\n",
    "4. Далее происходит итерация по всем возможным комбинациям чисел в диапазоне от start - 3 до finish + 3, включая числа внутри этого диапазона, с повторениями (с использованием функции product из модуля itertools). Каждая комбинация представляет собой потенциальную последовательность чисел длиной length - 1.\n",
    "\n",
    "5. Для каждой комбинации проверяется выполнение следующих условий:\n",
    "   - Число finish не должно быть в этой комбинации.\n",
    "   - Разница между соседними числами в комбинации должна быть либо 1, либо 3.\n",
    "   - Расстояние между start и первым числом в комбинации должно быть 1 или 3, а между последним числом и finish - также 1 или 3.\n",
    "\n",
    "6. Если все условия выполняются для данной комбинации, она добавляется в список результатов res.\n",
    "\n",
    "7. По завершении проверки всех комбинаций, функция возвращает список всех удовлетворяющих условиям последовательностей.\n",
    "\n",
    "Таким образом, функция bunny генерирует и возвращает все возможные последовательности чисел заданной длины, удовлетворяющие определенным условиям."
   ]
  },
  {
   "cell_type": "code",
   "execution_count": 8,
   "metadata": {},
   "outputs": [],
   "source": [
    "def bunny(start, finish, length):\n",
    "    if length == 0:  \n",
    "        if start == finish:\n",
    "            return [[finish]]  \n",
    "        else:\n",
    "            return []\n",
    "\n",
    "    if length == 1:  \n",
    "        if abs(finish - start) == 1 or abs(finish - start) == 2:\n",
    "            return [[start, finish]]\n",
    "        else:\n",
    "            return []\n",
    "\n",
    "    paths = []\n",
    "    for i in range(start + 1, finish + 1):\n",
    "        if abs(i - start) == 1 or abs(i - start) == 2:\n",
    "            sub_paths = bunny(i, finish, length - 1)\n",
    "            for path in sub_paths:\n",
    "                paths.append([start] + path)\n",
    "\n",
    "    return paths\n",
    "\n"
   ]
  }
 ],
 "metadata": {
  "kernelspec": {
   "display_name": "Python 3",
   "language": "python",
   "name": "python3"
  },
  "language_info": {
   "codemirror_mode": {
    "name": "ipython",
    "version": 3
   },
   "file_extension": ".py",
   "mimetype": "text/x-python",
   "name": "python",
   "nbconvert_exporter": "python",
   "pygments_lexer": "ipython3",
   "version": "3.11.7"
  }
 },
 "nbformat": 4,
 "nbformat_minor": 2
}
