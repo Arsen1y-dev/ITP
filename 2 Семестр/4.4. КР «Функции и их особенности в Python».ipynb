{
 "cells": [
  {
   "cell_type": "markdown",
   "metadata": {},
   "source": [
    "4.4. КР «Функции и их особенности в Python»"
   ]
  },
  {
   "cell_type": "markdown",
   "metadata": {},
   "source": [
    "Ветряный вывод"
   ]
  },
  {
   "cell_type": "code",
   "execution_count": null,
   "metadata": {},
   "outputs": [],
   "source": [
    "def print_weather(wind, temperature):\n",
    "    print(f\"За окном дует ветер со скоростью {wind} м/с. Температура воздуха {temperature}°C.\")\n"
   ]
  },
  {
   "cell_type": "markdown",
   "metadata": {},
   "source": [
    "Глобальное произведение"
   ]
  },
  {
   "cell_type": "code",
   "execution_count": 2,
   "metadata": {},
   "outputs": [
    {
     "name": "stdout",
     "output_type": "stream",
     "text": [
      "1 * 2 * 3 = 6\n",
      "1 * 2 * 3 * 7 * 2 = 84\n",
      "1 * 2 * 3 * 7 * 2 * 5 = 420\n"
     ]
    }
   ],
   "source": [
    "numbers = []\n",
    "\n",
    "\n",
    "def add_number(number):\n",
    "    numbers.append(number)\n",
    "\n",
    "\n",
    "def get_prod():\n",
    "    prod = 1\n",
    "    prod_str = \"\"\n",
    "    for num in numbers:\n",
    "        prod *= num\n",
    "        prod_str += str(num) + \" * \"\n",
    "    prod_str = prod_str[:-3] + \" = \" + str(prod)\n",
    "    return prod_str\n"
   ]
  },
  {
   "cell_type": "markdown",
   "metadata": {},
   "source": [
    "Кратный подсчёт"
   ]
  },
  {
   "cell_type": "code",
   "execution_count": 1,
   "metadata": {},
   "outputs": [],
   "source": [
    "def count_pairs(*numbers, div=10):\n",
    "    cnt = 0\n",
    "\n",
    "    for i in range(len(numbers) - 1):\n",
    "        for j in range(i + 1, len(numbers)):\n",
    "            cnt += ((numbers[i] + numbers[j]) % div == 0)\n",
    "\n",
    "    return cnt"
   ]
  },
  {
   "cell_type": "markdown",
   "metadata": {},
   "source": [
    "Генератор индексов"
   ]
  },
  {
   "cell_type": "code",
   "execution_count": null,
   "metadata": {},
   "outputs": [],
   "source": [
    "# Решение Димы Крыгина\n",
    "def index(text):\n",
    "    s = []\n",
    "    for x in in text:\n",
    "        if x.isalpha():\n",
    "            s.append(x)\n",
    "    for x in sorted(set(s)):\n",
    "        if x.isalpha():\n",
    "            yield x, text.index(x)\n"
   ]
  },
  {
   "cell_type": "code",
   "execution_count": null,
   "metadata": {},
   "outputs": [],
   "source": [
    "# Решение Вероники\n",
    "def index(text):\n",
    "    for s in sorted(set(text)):\n",
    "        if s.isalpha():\n",
    "            yield s, text.index(s)"
   ]
  },
  {
   "cell_type": "markdown",
   "metadata": {},
   "source": [
    "Путешествие зайки"
   ]
  },
  {
   "cell_type": "code",
   "execution_count": null,
   "metadata": {},
   "outputs": [],
   "source": []
  }
 ],
 "metadata": {
  "kernelspec": {
   "display_name": "Python 3",
   "language": "python",
   "name": "python3"
  },
  "language_info": {
   "codemirror_mode": {
    "name": "ipython",
    "version": 3
   },
   "file_extension": ".py",
   "mimetype": "text/x-python",
   "name": "python",
   "nbconvert_exporter": "python",
   "pygments_lexer": "ipython3",
   "version": "3.11.7"
  }
 },
 "nbformat": 4,
 "nbformat_minor": 2
}
