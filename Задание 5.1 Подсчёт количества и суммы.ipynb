{
 "cells": [
  {
   "cell_type": "markdown",
   "metadata": {},
   "source": [
    "Задание 5.1 Подсчёт количества и суммы"
   ]
  },
  {
   "cell_type": "markdown",
   "metadata": {},
   "source": [
    "Прочитать целые числа, записанные на одной строке и разделённые запятыми. \n",
    "+ Подсчитать количество элементов с нечётными номерами от start до stop, модули которых являются степенями тройки. А также сумму чисел из этого набора, которые кратны своим старшим цифрам и не принадлежат отрезку [A, B]\n"
   ]
  },
  {
   "cell_type": "code",
   "execution_count": null,
   "metadata": {},
   "outputs": [],
   "source": [
    "def is_power_of_three(num):\n",
    "    # Функция, определяющая, является ли число степенью тройки\n",
    "    while num > 1:\n",
    "        if num % 3 != 0:\n",
    "            return False\n",
    "        num /= 3\n",
    "    return num == 1\n",
    "\n",
    "def main():\n",
    "    numbers = input(\"Введите целые числа, разделенные запятыми: \").split(',')\n",
    "    start = int(input(\"Введите начальный индекс (start): \"))\n",
    "    stop = int(input(\"Введите конечный индекс (stop): \"))\n",
    "    A = int(input(\"Введите A: \"))\n",
    "    B = int(input(\"Введите B: \"))\n",
    "\n",
    "    # Преобразование в список целых чисел\n",
    "    numbers = [int(num) for num in numbers]\n",
    "\n",
    "    # Подсчет количества и суммы\n",
    "    count_odd_powers = 0\n",
    "    sum_multiples = 0\n",
    "\n",
    "    for i in range(start, stop + 1, 2):  # Цикл по нечетным индексам от start до stop\n",
    "        if i < len(numbers):  # Проверка, чтобы не выйти за границы списка\n",
    "            current_number = numbers[i]\n",
    "\n",
    "            # Проверка на степень тройки\n",
    "            if is_power_of_three(abs(current_number)):\n",
    "                # Проверка на кратность своим старшим цифрам\n",
    "                if current_number % int(str(abs(current_number))[0]) == 0:\n",
    "                    # Проверка на принадлежность отрезку [A, B]\n",
    "                    if current_number < A or current_number > B:\n",
    "                        count_odd_powers += 1\n",
    "                        sum_multiples += current_number\n",
    "\n",
    "    print(f\"Количество элементов с нечетными номерами от {start} до {stop}, модули которых являются степенями тройки: {count_odd_powers}\")\n",
    "    print(f\"Сумма чисел, кратных своим старшим цифрам и не принадлежащих отрезку [{A}, {B}]: {sum_multiples}\")\n",
    "\n",
    "if __name__ == \"__main__\":\n",
    "    main()\n"
   ]
  }
 ],
 "metadata": {
  "language_info": {
   "name": "python"
  }
 },
 "nbformat": 4,
 "nbformat_minor": 2
}
